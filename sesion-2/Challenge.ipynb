{
  "nbformat": 4,
  "nbformat_minor": 0,
  "metadata": {
    "colab": {
      "name": "Challenge.ipynb",
      "provenance": []
    },
    "language_info": {
      "name": "python"
    },
    "kernelspec": {
      "name": "python3",
      "display_name": "Python 3"
    }
  },
  "cells": [
    {
      "cell_type": "markdown",
      "metadata": {
        "id": "cBZBLMC4zAt5"
      },
      "source": [
        "###Lectura de archivos CSV\n"
      ]
    },
    {
      "cell_type": "markdown",
      "metadata": {
        "id": "GxncPtjWC3hC"
      },
      "source": [
        "**MiniChallenge**\n",
        "1. Crear un archivo csv con un tabulador de **,** (coma) y con dos columnas; una con los **nombres** de los integrantes del equipo y la segunda con sus edades.\n",
        "2. Abrir y mostrar la columna de los nombres."
      ]
    },
    {
      "cell_type": "code",
      "metadata": {
        "id": "pvWH-I-RzJag"
      },
      "source": [
        "import csv"
      ],
      "execution_count": null,
      "outputs": []
    },
    {
      "cell_type": "code",
      "metadata": {
        "id": "atGgqqbc1Va_"
      },
      "source": [
        "#Crea y Escribe tu CSV aqui\n",
        "\n"
      ],
      "execution_count": null,
      "outputs": []
    },
    {
      "cell_type": "code",
      "metadata": {
        "id": "Jqk9w5sieC0G"
      },
      "source": [
        "#Lee tu CSV aqui \n",
        "\n"
      ],
      "execution_count": null,
      "outputs": []
    },
    {
      "cell_type": "code",
      "metadata": {
        "id": "oU_eocI-eNYX"
      },
      "source": [
        "#Muestra el contenido de la columna aqui\n",
        "\n"
      ],
      "execution_count": null,
      "outputs": []
    },
    {
      "cell_type": "markdown",
      "metadata": {
        "id": "tKTXFzaPzKJq"
      },
      "source": [
        "###Lectura y exploracion de archivo CSV con Pandas"
      ]
    },
    {
      "cell_type": "markdown",
      "metadata": {
        "id": "hBLx76OvzbzE"
      },
      "source": [
        "\n",
        "[Pandas](https://pandas.pydata.org) es un módulo externo en Python que provee de herramientas para el análisis y manipulación de datos comúnmente utilizado en *Data Science* debido a que es rápido, poderoso, flexible y fácil de utilizar."
      ]
    },
    {
      "cell_type": "markdown",
      "metadata": {
        "id": "7kECivjM2aAM"
      },
      "source": [
        "Una de las principales ventajas de utilizar un DataFrame en lugar de una estructura de datos convencional de Python es el acceso a funcionalidades de uso frecuente. Una de estas es la posibilidad de realizar operaciones de agregación (metodos) sobre las columnas.\n",
        "\n",
        "Existen 13 funciones de agregación (metodos) incluidas en Pandas:\n",
        "1. `mean()`: Calcula el promedio.\n",
        "1. `sum()`: Calcula la suma.\n",
        "1. `size()`: Calcula el tamaño.\n",
        "1. `count()`: Calcula el tamaño ignorando valores vacíos.\n",
        "1. `std()`: Calcula la desviación estándar.\n",
        "1. `var()`: Calcula la varianza.\n",
        "1. `sem()`: Calcula el error estándar de los valores promedio.\n",
        "1. `describe()`: Genera estadísticas descriptivas (promedio, desviación estándar, mínimo, máximo, quartiles).\n",
        "1. `first():` Devuelve el primer elemento.\n",
        "1. `last()`: Devuelve el último elemento.\n",
        "1. `nth()` : Devuel el n-ésimo elemento para un valor de `n` entero, o un subconjunto si `n` es una lista.\n",
        "1. `min()`: Calcula el mínimo.\n",
        "1. `max()`: Calcula el máximo."
      ]
    },
    {
      "cell_type": "markdown",
      "metadata": {
        "id": "vpkKmPR2eoaX"
      },
      "source": [
        "**MiniChallenge**\n",
        "1. Entra a Kaggle, descarga el archivo [water_potability.csv](https://www.kaggle.com/adityakadiwal/water-potability?select=water_potability.csv) y subelo a tu carpeta de Files\n",
        "2. Importar la base de datos con pandas al notebook\n",
        "3. Mostrar la columna 'Turbidity'\n",
        "4. Sacar promedio de la columna 'Ph'"
      ]
    },
    {
      "cell_type": "code",
      "metadata": {
        "id": "pOuoVhVyzVhS"
      },
      "source": [
        "import pandas as pd"
      ],
      "execution_count": null,
      "outputs": []
    },
    {
      "cell_type": "code",
      "metadata": {
        "id": "3VFVVl1rzf4n"
      },
      "source": [
        ""
      ],
      "execution_count": null,
      "outputs": []
    },
    {
      "cell_type": "code",
      "metadata": {
        "id": "w3t3Omv0e0Q6"
      },
      "source": [
        ""
      ],
      "execution_count": null,
      "outputs": []
    },
    {
      "cell_type": "code",
      "metadata": {
        "id": "yIScX4zMe0DU"
      },
      "source": [
        ""
      ],
      "execution_count": null,
      "outputs": []
    },
    {
      "cell_type": "markdown",
      "metadata": {
        "id": "AgK938AnzzNT"
      },
      "source": [
        "###Accediendo a Páginas Web "
      ]
    },
    {
      "cell_type": "markdown",
      "metadata": {
        "id": "mp9uNQ6Te7sF"
      },
      "source": [
        "**MiniChallenge**\n",
        "1. Accedemos a Project Gutemberg y elegir el libro de tu preferencia en formato txt https://www.gutenberg.org/\n",
        "2. leer el libro elegido\n",
        "3. Mostrar los primeros 5000 caracteres"
      ]
    },
    {
      "cell_type": "code",
      "metadata": {
        "id": "CMDCXjpI0F6e"
      },
      "source": [
        "import urllib.request"
      ],
      "execution_count": null,
      "outputs": []
    },
    {
      "cell_type": "code",
      "metadata": {
        "id": "kcG7p5km1IeL"
      },
      "source": [
        ""
      ],
      "execution_count": null,
      "outputs": []
    },
    {
      "cell_type": "markdown",
      "metadata": {
        "id": "I_FHDNj-0Hds"
      },
      "source": [
        "###Manipulacion de JSON con Python"
      ]
    },
    {
      "cell_type": "markdown",
      "metadata": {
        "id": "7hirxJVp0ras"
      },
      "source": [
        "JavaScript Object Notation (JSON) El formato mas utilizado para trasferir informacion (intercambio de datos a través de la web)"
      ]
    },
    {
      "cell_type": "markdown",
      "metadata": {
        "id": "N9v6TwUJbW6S"
      },
      "source": [
        "**MiniChallenge**\n",
        " \n",
        "1. Busquemos acceder a las 'description' del json"
      ]
    },
    {
      "cell_type": "code",
      "metadata": {
        "id": "Fto6srjpbWlX"
      },
      "source": [
        "import json"
      ],
      "execution_count": null,
      "outputs": []
    },
    {
      "cell_type": "code",
      "metadata": {
        "id": "O9Jh6m1C0cPV"
      },
      "source": [
        "otro_JSON='''\n",
        "{\n",
        "    \"marcadores\": [\n",
        "      {\n",
        "        \"latitude\": 40.416875,\n",
        "        \"longitude\": -3.703308,\n",
        "        \"city\": \"Madrid\",\n",
        "        \"description\": \"Puerta del Sol\"\n",
        "      },\n",
        "      {\n",
        "        \"latitude\": 40.417438,\n",
        "        \"longitude\": -3.693363,\n",
        "        \"city\": \"Madrid\",\n",
        "        \"description\": \"Paseo del Prado\"\n",
        "      },\n",
        "      {\n",
        "        \"latitude\": 40.407015,\n",
        "        \"longitude\": -3.691163,\n",
        "        \"city\": \"Madrid\",\n",
        "        \"description\": \"Estación de Atocha\"\n",
        "      }\n",
        "    ]\n",
        "}\n",
        "\n",
        "'''"
      ],
      "execution_count": null,
      "outputs": []
    },
    {
      "cell_type": "code",
      "metadata": {
        "id": "vTu7ouo6byvY"
      },
      "source": [
        "#Codea aqui para acceder a las 3 description de otro_JSON con ayuda de un for\n",
        "\n"
      ],
      "execution_count": null,
      "outputs": []
    },
    {
      "cell_type": "markdown",
      "metadata": {
        "id": "vsiz_YdVAMc5"
      },
      "source": [
        "##API"
      ]
    },
    {
      "cell_type": "markdown",
      "metadata": {
        "id": "H75n3VaOBDXR"
      },
      "source": [
        "Minichallenge\n",
        "\n",
        "Haz una consulta a la siguiente API y obten todos los elementos de 'sunrise' del JSON que da como resultado\n",
        "\n",
        "* [Sunrise Sunset](https://sunrise-sunset.org/api)"
      ]
    },
    {
      "cell_type": "code",
      "metadata": {
        "id": "bNqAR_btAOQG"
      },
      "source": [
        "import requests    "
      ],
      "execution_count": null,
      "outputs": []
    },
    {
      "cell_type": "code",
      "metadata": {
        "id": "5Sf65z0_APCG"
      },
      "source": [
        ""
      ],
      "execution_count": null,
      "outputs": []
    }
  ]
}