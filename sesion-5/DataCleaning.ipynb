{
  "cells": [
    {
      "cell_type": "markdown",
      "metadata": {
        "id": "RRaW_DI12TeY"
      },
      "source": [
        "# Ejercicios de Pandas\n",
        "\n",
        "Es momento de poner a pruebas tus nuevas habilidades. Utiliza el archivo <tt>population_by_county.csv</tt> para completar las tareas en negritas en la parte de abajo.\n",
        "\n",
        "[Data](https://github.com/gupta24789/Machine-Learning-Datasets/blob/master/population_by_county.csv)\n",
        "\n",
        "<div class=\"alert alert-info\" style=\"margin: 10px\"><strong>NOTA:</strong>TODOS LOS EJERCICIOS PUDEN REALIZARSE CON UNA SOLA LINEA DE CODIGO DE PANDAS.</div>\n"
      ]
    },
    {
      "cell_type": "markdown",
      "metadata": {
        "id": "YgjOv01B2Tee"
      },
      "source": [
        "#### 1. Importa pandas y lee el archivo <tt>population_by_county.csv</tt> en una dataframe llamado <tt>pop</tt>."
      ]
    },
    {
      "cell_type": "code",
      "execution_count": 1,
      "metadata": {
        "id": "j6VNtTSZ2Tef"
      },
      "outputs": [],
      "source": [
        "import pandas as pd"
      ]
    },
    {
      "cell_type": "code",
      "execution_count": 27,
      "metadata": {},
      "outputs": [],
      "source": [
        "pop = pd.read_csv('population_by_county.csv')"
      ]
    },
    {
      "cell_type": "code",
      "execution_count": 28,
      "metadata": {},
      "outputs": [
        {
          "data": {
            "text/html": [
              "<div>\n",
              "<style scoped>\n",
              "    .dataframe tbody tr th:only-of-type {\n",
              "        vertical-align: middle;\n",
              "    }\n",
              "\n",
              "    .dataframe tbody tr th {\n",
              "        vertical-align: top;\n",
              "    }\n",
              "\n",
              "    .dataframe thead th {\n",
              "        text-align: right;\n",
              "    }\n",
              "</style>\n",
              "<table border=\"1\" class=\"dataframe\">\n",
              "  <thead>\n",
              "    <tr style=\"text-align: right;\">\n",
              "      <th></th>\n",
              "      <th>County</th>\n",
              "      <th>State</th>\n",
              "      <th>2010Census</th>\n",
              "      <th>2017PopEstimate</th>\n",
              "    </tr>\n",
              "  </thead>\n",
              "  <tbody>\n",
              "    <tr>\n",
              "      <th>0</th>\n",
              "      <td>Abbeville County</td>\n",
              "      <td>South Carolina</td>\n",
              "      <td>25417</td>\n",
              "      <td>24722</td>\n",
              "    </tr>\n",
              "    <tr>\n",
              "      <th>1</th>\n",
              "      <td>Acadia Parish</td>\n",
              "      <td>Louisiana</td>\n",
              "      <td>61773</td>\n",
              "      <td>62590</td>\n",
              "    </tr>\n",
              "    <tr>\n",
              "      <th>2</th>\n",
              "      <td>Accomack County</td>\n",
              "      <td>Virginia</td>\n",
              "      <td>33164</td>\n",
              "      <td>32545</td>\n",
              "    </tr>\n",
              "    <tr>\n",
              "      <th>3</th>\n",
              "      <td>Ada County</td>\n",
              "      <td>Idaho</td>\n",
              "      <td>392365</td>\n",
              "      <td>456849</td>\n",
              "    </tr>\n",
              "    <tr>\n",
              "      <th>4</th>\n",
              "      <td>Adair County</td>\n",
              "      <td>Iowa</td>\n",
              "      <td>7682</td>\n",
              "      <td>7054</td>\n",
              "    </tr>\n",
              "    <tr>\n",
              "      <th>...</th>\n",
              "      <td>...</td>\n",
              "      <td>...</td>\n",
              "      <td>...</td>\n",
              "      <td>...</td>\n",
              "    </tr>\n",
              "    <tr>\n",
              "      <th>3137</th>\n",
              "      <td>Yuma County</td>\n",
              "      <td>Arizona</td>\n",
              "      <td>195751</td>\n",
              "      <td>207534</td>\n",
              "    </tr>\n",
              "    <tr>\n",
              "      <th>3138</th>\n",
              "      <td>Yuma County</td>\n",
              "      <td>Colorado</td>\n",
              "      <td>10043</td>\n",
              "      <td>10075</td>\n",
              "    </tr>\n",
              "    <tr>\n",
              "      <th>3139</th>\n",
              "      <td>Zapata County</td>\n",
              "      <td>Texas</td>\n",
              "      <td>14018</td>\n",
              "      <td>14322</td>\n",
              "    </tr>\n",
              "    <tr>\n",
              "      <th>3140</th>\n",
              "      <td>Zavala County</td>\n",
              "      <td>Texas</td>\n",
              "      <td>11677</td>\n",
              "      <td>11948</td>\n",
              "    </tr>\n",
              "    <tr>\n",
              "      <th>3141</th>\n",
              "      <td>Ziebach County</td>\n",
              "      <td>South Dakota</td>\n",
              "      <td>2801</td>\n",
              "      <td>2756</td>\n",
              "    </tr>\n",
              "  </tbody>\n",
              "</table>\n",
              "<p>3142 rows × 4 columns</p>\n",
              "</div>"
            ],
            "text/plain": [
              "                County           State  2010Census  2017PopEstimate\n",
              "0     Abbeville County  South Carolina       25417            24722\n",
              "1        Acadia Parish       Louisiana       61773            62590\n",
              "2      Accomack County        Virginia       33164            32545\n",
              "3           Ada County           Idaho      392365           456849\n",
              "4         Adair County            Iowa        7682             7054\n",
              "...                ...             ...         ...              ...\n",
              "3137       Yuma County         Arizona      195751           207534\n",
              "3138       Yuma County        Colorado       10043            10075\n",
              "3139     Zapata County           Texas       14018            14322\n",
              "3140     Zavala County           Texas       11677            11948\n",
              "3141    Ziebach County    South Dakota        2801             2756\n",
              "\n",
              "[3142 rows x 4 columns]"
            ]
          },
          "execution_count": 28,
          "metadata": {},
          "output_type": "execute_result"
        }
      ],
      "source": [
        "pop"
      ]
    },
    {
      "cell_type": "markdown",
      "metadata": {
        "id": "EqLaYFjM2Teh"
      },
      "source": [
        "#### 2. Muestra el head del dataframe."
      ]
    },
    {
      "cell_type": "code",
      "execution_count": 29,
      "metadata": {
        "colab": {
          "base_uri": "https://localhost:8080/",
          "height": 206
        },
        "id": "MY0FfoHq2Teh",
        "outputId": "8e96c0b1-f24e-4b92-ea70-6bd78cf0ef7a"
      },
      "outputs": [
        {
          "data": {
            "text/html": [
              "<div>\n",
              "<style scoped>\n",
              "    .dataframe tbody tr th:only-of-type {\n",
              "        vertical-align: middle;\n",
              "    }\n",
              "\n",
              "    .dataframe tbody tr th {\n",
              "        vertical-align: top;\n",
              "    }\n",
              "\n",
              "    .dataframe thead th {\n",
              "        text-align: right;\n",
              "    }\n",
              "</style>\n",
              "<table border=\"1\" class=\"dataframe\">\n",
              "  <thead>\n",
              "    <tr style=\"text-align: right;\">\n",
              "      <th></th>\n",
              "      <th>County</th>\n",
              "      <th>State</th>\n",
              "      <th>2010Census</th>\n",
              "      <th>2017PopEstimate</th>\n",
              "    </tr>\n",
              "  </thead>\n",
              "  <tbody>\n",
              "    <tr>\n",
              "      <th>0</th>\n",
              "      <td>Abbeville County</td>\n",
              "      <td>South Carolina</td>\n",
              "      <td>25417</td>\n",
              "      <td>24722</td>\n",
              "    </tr>\n",
              "    <tr>\n",
              "      <th>1</th>\n",
              "      <td>Acadia Parish</td>\n",
              "      <td>Louisiana</td>\n",
              "      <td>61773</td>\n",
              "      <td>62590</td>\n",
              "    </tr>\n",
              "    <tr>\n",
              "      <th>2</th>\n",
              "      <td>Accomack County</td>\n",
              "      <td>Virginia</td>\n",
              "      <td>33164</td>\n",
              "      <td>32545</td>\n",
              "    </tr>\n",
              "    <tr>\n",
              "      <th>3</th>\n",
              "      <td>Ada County</td>\n",
              "      <td>Idaho</td>\n",
              "      <td>392365</td>\n",
              "      <td>456849</td>\n",
              "    </tr>\n",
              "  </tbody>\n",
              "</table>\n",
              "</div>"
            ],
            "text/plain": [
              "             County           State  2010Census  2017PopEstimate\n",
              "0  Abbeville County  South Carolina       25417            24722\n",
              "1     Acadia Parish       Louisiana       61773            62590\n",
              "2   Accomack County        Virginia       33164            32545\n",
              "3        Ada County           Idaho      392365           456849"
            ]
          },
          "execution_count": 29,
          "metadata": {},
          "output_type": "execute_result"
        }
      ],
      "source": [
        "pop.head(4)"
      ]
    },
    {
      "cell_type": "markdown",
      "metadata": {
        "id": "x0vNyKqu2Tek"
      },
      "source": [
        "#### 3. ¿Cuáles son los nombres de las columnas?"
      ]
    },
    {
      "cell_type": "code",
      "execution_count": 31,
      "metadata": {
        "colab": {
          "base_uri": "https://localhost:8080/"
        },
        "collapsed": true,
        "id": "Wuf9aUfB2Tel",
        "jupyter": {
          "outputs_hidden": true
        },
        "outputId": "eb0c6800-3415-400b-bd2e-420afef8d90e"
      },
      "outputs": [
        {
          "data": {
            "text/plain": [
              "Index(['County', 'State', '2010Census', '2017PopEstimate'], dtype='object')"
            ]
          },
          "execution_count": 31,
          "metadata": {},
          "output_type": "execute_result"
        }
      ],
      "source": [
        "pop.columns"
      ]
    },
    {
      "cell_type": "markdown",
      "metadata": {
        "id": "PW03cNmq2Tem"
      },
      "source": [
        "<strong>4. ¿Cuántos estados están representados en este dataset?</strong> <em>Nota: los datos incluyen el distrito de Columbia</em>"
      ]
    },
    {
      "cell_type": "code",
      "execution_count": 45,
      "metadata": {
        "colab": {
          "base_uri": "https://localhost:8080/"
        },
        "collapsed": true,
        "id": "Mb09GA8s2Teo",
        "jupyter": {
          "outputs_hidden": true
        },
        "outputId": "c327ff31-2e47-4def-f127-f604dd79b4ed"
      },
      "outputs": [
        {
          "data": {
            "text/plain": [
              "51"
            ]
          },
          "execution_count": 45,
          "metadata": {},
          "output_type": "execute_result"
        }
      ],
      "source": [
        "len(pd.unique(pop['State']))"
      ]
    },
    {
      "cell_type": "markdown",
      "metadata": {
        "id": "0atRjNjh2Ten"
      },
      "source": [
        "#### 5. Obtén una listo o arreglo de todos los estados en el dataset"
      ]
    },
    {
      "cell_type": "code",
      "execution_count": 63,
      "metadata": {
        "colab": {
          "base_uri": "https://localhost:8080/"
        },
        "collapsed": true,
        "id": "Z-Ppz3X02Ten",
        "jupyter": {
          "outputs_hidden": true
        },
        "outputId": "7beebbbd-86f4-4e8a-d09a-f57609590b39"
      },
      "outputs": [
        {
          "data": {
            "text/plain": [
              "0       South Carolina\n",
              "1            Louisiana\n",
              "2             Virginia\n",
              "3                Idaho\n",
              "4                 Iowa\n",
              "             ...      \n",
              "3137           Arizona\n",
              "3138          Colorado\n",
              "3139             Texas\n",
              "3140             Texas\n",
              "3141      South Dakota\n",
              "Name: State, Length: 3142, dtype: object"
            ]
          },
          "execution_count": 63,
          "metadata": {},
          "output_type": "execute_result"
        }
      ],
      "source": [
        "pop['State']"
      ]
    },
    {
      "cell_type": "markdown",
      "metadata": {
        "id": "XSCxfvWr2Teo"
      },
      "source": [
        "#### 6. ¿Cuáles son los nombres de condados más comunes en los Estados Unidos?"
      ]
    },
    {
      "cell_type": "code",
      "execution_count": 50,
      "metadata": {
        "id": "WjieIX_42Teo",
        "outputId": "e8483768-bd88-431d-bf7e-b82f44083cc7"
      },
      "outputs": [
        {
          "data": {
            "text/plain": [
              "Washington County    30\n",
              "Jefferson County     25\n",
              "Franklin County      24\n",
              "Lincoln County       23\n",
              "Jackson County       23\n",
              "                     ..\n",
              "Gunnison County       1\n",
              "Gulf County           1\n",
              "Guilford County       1\n",
              "Guernsey County       1\n",
              "Ziebach County        1\n",
              "Name: County, Length: 1877, dtype: int64"
            ]
          },
          "execution_count": 50,
          "metadata": {},
          "output_type": "execute_result"
        }
      ],
      "source": [
        "pop['County'].value_counts()"
      ]
    },
    {
      "cell_type": "markdown",
      "metadata": {
        "id": "WriM1TxQ2Tep"
      },
      "source": [
        "#### 7. De acuerdo al censo de 2010, ¿Cuáles son los 5 condados con mayor población?"
      ]
    },
    {
      "cell_type": "code",
      "execution_count": 65,
      "metadata": {},
      "outputs": [
        {
          "data": {
            "text/html": [
              "<div>\n",
              "<style scoped>\n",
              "    .dataframe tbody tr th:only-of-type {\n",
              "        vertical-align: middle;\n",
              "    }\n",
              "\n",
              "    .dataframe tbody tr th {\n",
              "        vertical-align: top;\n",
              "    }\n",
              "\n",
              "    .dataframe thead th {\n",
              "        text-align: right;\n",
              "    }\n",
              "</style>\n",
              "<table border=\"1\" class=\"dataframe\">\n",
              "  <thead>\n",
              "    <tr style=\"text-align: right;\">\n",
              "      <th></th>\n",
              "      <th>State</th>\n",
              "      <th>2010Census</th>\n",
              "      <th>2017PopEstimate</th>\n",
              "    </tr>\n",
              "    <tr>\n",
              "      <th>County</th>\n",
              "      <th></th>\n",
              "      <th></th>\n",
              "      <th></th>\n",
              "    </tr>\n",
              "  </thead>\n",
              "  <tbody>\n",
              "    <tr>\n",
              "      <th>Los Angeles County</th>\n",
              "      <td>California</td>\n",
              "      <td>9818605</td>\n",
              "      <td>10163507</td>\n",
              "    </tr>\n",
              "    <tr>\n",
              "      <th>Cook County</th>\n",
              "      <td>Minnesota</td>\n",
              "      <td>5194675</td>\n",
              "      <td>5211263</td>\n",
              "    </tr>\n",
              "    <tr>\n",
              "      <th>Harris County</th>\n",
              "      <td>Texas</td>\n",
              "      <td>4092459</td>\n",
              "      <td>4652980</td>\n",
              "    </tr>\n",
              "    <tr>\n",
              "      <th>Maricopa County</th>\n",
              "      <td>Arizona</td>\n",
              "      <td>3817117</td>\n",
              "      <td>4307033</td>\n",
              "    </tr>\n",
              "    <tr>\n",
              "      <th>San Diego County</th>\n",
              "      <td>California</td>\n",
              "      <td>3095313</td>\n",
              "      <td>3337685</td>\n",
              "    </tr>\n",
              "  </tbody>\n",
              "</table>\n",
              "</div>"
            ],
            "text/plain": [
              "                         State  2010Census  2017PopEstimate\n",
              "County                                                     \n",
              "Los Angeles County  California     9818605         10163507\n",
              "Cook County          Minnesota     5194675          5211263\n",
              "Harris County            Texas     4092459          4652980\n",
              "Maricopa County        Arizona     3817117          4307033\n",
              "San Diego County    California     3095313          3337685"
            ]
          },
          "execution_count": 65,
          "metadata": {},
          "output_type": "execute_result"
        }
      ],
      "source": [
        "pop.groupby(['County']).max().sort_values(by='2010Census',ascending=False).head(5)"
      ]
    },
    {
      "cell_type": "markdown",
      "metadata": {
        "id": "-vd6E7O72Tep"
      },
      "source": [
        "#### 8. De acuerdo al censo de 2010, ¿Cuaĺes son los 5 estados más poblados?"
      ]
    },
    {
      "cell_type": "code",
      "execution_count": 67,
      "metadata": {
        "colab": {
          "base_uri": "https://localhost:8080/",
          "height": 237
        },
        "id": "nU_LfEz23HIp",
        "outputId": "30cdbb6f-1490-4259-eb48-4092c55ab0c4"
      },
      "outputs": [
        {
          "data": {
            "text/html": [
              "<div>\n",
              "<style scoped>\n",
              "    .dataframe tbody tr th:only-of-type {\n",
              "        vertical-align: middle;\n",
              "    }\n",
              "\n",
              "    .dataframe tbody tr th {\n",
              "        vertical-align: top;\n",
              "    }\n",
              "\n",
              "    .dataframe thead th {\n",
              "        text-align: right;\n",
              "    }\n",
              "</style>\n",
              "<table border=\"1\" class=\"dataframe\">\n",
              "  <thead>\n",
              "    <tr style=\"text-align: right;\">\n",
              "      <th></th>\n",
              "      <th>County</th>\n",
              "      <th>2010Census</th>\n",
              "      <th>2017PopEstimate</th>\n",
              "    </tr>\n",
              "    <tr>\n",
              "      <th>State</th>\n",
              "      <th></th>\n",
              "      <th></th>\n",
              "      <th></th>\n",
              "    </tr>\n",
              "  </thead>\n",
              "  <tbody>\n",
              "    <tr>\n",
              "      <th>California</th>\n",
              "      <td>Yuba County</td>\n",
              "      <td>9818605</td>\n",
              "      <td>10163507</td>\n",
              "    </tr>\n",
              "    <tr>\n",
              "      <th>Illinois</th>\n",
              "      <td>Woodford County</td>\n",
              "      <td>5194675</td>\n",
              "      <td>5211263</td>\n",
              "    </tr>\n",
              "    <tr>\n",
              "      <th>Texas</th>\n",
              "      <td>Zavala County</td>\n",
              "      <td>4092459</td>\n",
              "      <td>4652980</td>\n",
              "    </tr>\n",
              "    <tr>\n",
              "      <th>Arizona</th>\n",
              "      <td>Yuma County</td>\n",
              "      <td>3817117</td>\n",
              "      <td>4307033</td>\n",
              "    </tr>\n",
              "    <tr>\n",
              "      <th>New York</th>\n",
              "      <td>Yates County</td>\n",
              "      <td>2504700</td>\n",
              "      <td>2648771</td>\n",
              "    </tr>\n",
              "  </tbody>\n",
              "</table>\n",
              "</div>"
            ],
            "text/plain": [
              "                     County  2010Census  2017PopEstimate\n",
              "State                                                   \n",
              "California      Yuba County     9818605         10163507\n",
              "Illinois    Woodford County     5194675          5211263\n",
              "Texas         Zavala County     4092459          4652980\n",
              "Arizona         Yuma County     3817117          4307033\n",
              "New York       Yates County     2504700          2648771"
            ]
          },
          "execution_count": 67,
          "metadata": {},
          "output_type": "execute_result"
        }
      ],
      "source": [
        "pop.groupby(['State']).max().sort_values(by='2010Census',ascending=False).head(5)"
      ]
    },
    {
      "cell_type": "markdown",
      "metadata": {
        "id": "udk7XqVK2Teq"
      },
      "source": [
        "#### 9. En 2010, ¿Cuántos condados tenían una población mayor a un millón de habitantes?"
      ]
    },
    {
      "cell_type": "code",
      "execution_count": 88,
      "metadata": {},
      "outputs": [
        {
          "data": {
            "text/plain": [
              "39"
            ]
          },
          "execution_count": 88,
          "metadata": {},
          "output_type": "execute_result"
        }
      ],
      "source": [
        "num = (pop['2010Census'] > 1000000).sum()\n",
        "num"
      ]
    },
    {
      "cell_type": "markdown",
      "metadata": {
        "id": "xE-4-eF72Teq"
      },
      "source": [
        "#### 10. ¿Cuántos condados no tienen la palabra 'County' en su nombre?"
      ]
    },
    {
      "cell_type": "code",
      "execution_count": 97,
      "metadata": {
        "colab": {
          "base_uri": "https://localhost:8080/"
        },
        "id": "PvDfqcdT2Ter",
        "outputId": "d108628b-c27f-4185-bbb4-fcb168bd8b37"
      },
      "outputs": [
        {
          "data": {
            "text/html": [
              "<div>\n",
              "<style scoped>\n",
              "    .dataframe tbody tr th:only-of-type {\n",
              "        vertical-align: middle;\n",
              "    }\n",
              "\n",
              "    .dataframe tbody tr th {\n",
              "        vertical-align: top;\n",
              "    }\n",
              "\n",
              "    .dataframe thead th {\n",
              "        text-align: right;\n",
              "    }\n",
              "</style>\n",
              "<table border=\"1\" class=\"dataframe\">\n",
              "  <thead>\n",
              "    <tr style=\"text-align: right;\">\n",
              "      <th></th>\n",
              "      <th>County</th>\n",
              "      <th>State</th>\n",
              "      <th>2010Census</th>\n",
              "      <th>2017PopEstimate</th>\n",
              "    </tr>\n",
              "  </thead>\n",
              "  <tbody>\n",
              "    <tr>\n",
              "      <th>0</th>\n",
              "      <td>Abbeville County</td>\n",
              "      <td>South Carolina</td>\n",
              "      <td>25417</td>\n",
              "      <td>24722</td>\n",
              "    </tr>\n",
              "    <tr>\n",
              "      <th>2</th>\n",
              "      <td>Accomack County</td>\n",
              "      <td>Virginia</td>\n",
              "      <td>33164</td>\n",
              "      <td>32545</td>\n",
              "    </tr>\n",
              "    <tr>\n",
              "      <th>3</th>\n",
              "      <td>Ada County</td>\n",
              "      <td>Idaho</td>\n",
              "      <td>392365</td>\n",
              "      <td>456849</td>\n",
              "    </tr>\n",
              "    <tr>\n",
              "      <th>4</th>\n",
              "      <td>Adair County</td>\n",
              "      <td>Iowa</td>\n",
              "      <td>7682</td>\n",
              "      <td>7054</td>\n",
              "    </tr>\n",
              "    <tr>\n",
              "      <th>5</th>\n",
              "      <td>Adair County</td>\n",
              "      <td>Kentucky</td>\n",
              "      <td>18656</td>\n",
              "      <td>19485</td>\n",
              "    </tr>\n",
              "    <tr>\n",
              "      <th>...</th>\n",
              "      <td>...</td>\n",
              "      <td>...</td>\n",
              "      <td>...</td>\n",
              "      <td>...</td>\n",
              "    </tr>\n",
              "    <tr>\n",
              "      <th>3137</th>\n",
              "      <td>Yuma County</td>\n",
              "      <td>Arizona</td>\n",
              "      <td>195751</td>\n",
              "      <td>207534</td>\n",
              "    </tr>\n",
              "    <tr>\n",
              "      <th>3138</th>\n",
              "      <td>Yuma County</td>\n",
              "      <td>Colorado</td>\n",
              "      <td>10043</td>\n",
              "      <td>10075</td>\n",
              "    </tr>\n",
              "    <tr>\n",
              "      <th>3139</th>\n",
              "      <td>Zapata County</td>\n",
              "      <td>Texas</td>\n",
              "      <td>14018</td>\n",
              "      <td>14322</td>\n",
              "    </tr>\n",
              "    <tr>\n",
              "      <th>3140</th>\n",
              "      <td>Zavala County</td>\n",
              "      <td>Texas</td>\n",
              "      <td>11677</td>\n",
              "      <td>11948</td>\n",
              "    </tr>\n",
              "    <tr>\n",
              "      <th>3141</th>\n",
              "      <td>Ziebach County</td>\n",
              "      <td>South Dakota</td>\n",
              "      <td>2801</td>\n",
              "      <td>2756</td>\n",
              "    </tr>\n",
              "  </tbody>\n",
              "</table>\n",
              "<p>3007 rows × 4 columns</p>\n",
              "</div>"
            ],
            "text/plain": [
              "                County           State  2010Census  2017PopEstimate\n",
              "0     Abbeville County  South Carolina       25417            24722\n",
              "2      Accomack County        Virginia       33164            32545\n",
              "3           Ada County           Idaho      392365           456849\n",
              "4         Adair County            Iowa        7682             7054\n",
              "5         Adair County        Kentucky       18656            19485\n",
              "...                ...             ...         ...              ...\n",
              "3137       Yuma County         Arizona      195751           207534\n",
              "3138       Yuma County        Colorado       10043            10075\n",
              "3139     Zapata County           Texas       14018            14322\n",
              "3140     Zavala County           Texas       11677            11948\n",
              "3141    Ziebach County    South Dakota        2801             2756\n",
              "\n",
              "[3007 rows x 4 columns]"
            ]
          },
          "execution_count": 97,
          "metadata": {},
          "output_type": "execute_result"
        }
      ],
      "source": [
        "pop[pop['County'].str.contains('County')]"
      ]
    },
    {
      "cell_type": "markdown",
      "metadata": {
        "id": "HNun_K8i2Ter"
      },
      "source": [
        "#### 11. Agrega una columna que calcule el cambio porcentual entre lo reportado por el censo de 2010 y el estimado de población de 2017."
      ]
    },
    {
      "cell_type": "code",
      "execution_count": 101,
      "metadata": {
        "colab": {
          "base_uri": "https://localhost:8080/",
          "height": 206
        },
        "id": "4dz1oKHR2Ter",
        "outputId": "b4054454-4c96-4e07-979f-57fa4a7589b3"
      },
      "outputs": [
        {
          "data": {
            "text/html": [
              "<div>\n",
              "<style scoped>\n",
              "    .dataframe tbody tr th:only-of-type {\n",
              "        vertical-align: middle;\n",
              "    }\n",
              "\n",
              "    .dataframe tbody tr th {\n",
              "        vertical-align: top;\n",
              "    }\n",
              "\n",
              "    .dataframe thead th {\n",
              "        text-align: right;\n",
              "    }\n",
              "</style>\n",
              "<table border=\"1\" class=\"dataframe\">\n",
              "  <thead>\n",
              "    <tr style=\"text-align: right;\">\n",
              "      <th></th>\n",
              "      <th>County</th>\n",
              "      <th>State</th>\n",
              "      <th>2010Census</th>\n",
              "      <th>2017PopEstimate</th>\n",
              "      <th>porcentual</th>\n",
              "    </tr>\n",
              "  </thead>\n",
              "  <tbody>\n",
              "    <tr>\n",
              "      <th>0</th>\n",
              "      <td>Abbeville County</td>\n",
              "      <td>South Carolina</td>\n",
              "      <td>25417</td>\n",
              "      <td>24722</td>\n",
              "      <td>-2.811261</td>\n",
              "    </tr>\n",
              "    <tr>\n",
              "      <th>1</th>\n",
              "      <td>Acadia Parish</td>\n",
              "      <td>Louisiana</td>\n",
              "      <td>61773</td>\n",
              "      <td>62590</td>\n",
              "      <td>1.305320</td>\n",
              "    </tr>\n",
              "    <tr>\n",
              "      <th>2</th>\n",
              "      <td>Accomack County</td>\n",
              "      <td>Virginia</td>\n",
              "      <td>33164</td>\n",
              "      <td>32545</td>\n",
              "      <td>-1.901982</td>\n",
              "    </tr>\n",
              "    <tr>\n",
              "      <th>3</th>\n",
              "      <td>Ada County</td>\n",
              "      <td>Idaho</td>\n",
              "      <td>392365</td>\n",
              "      <td>456849</td>\n",
              "      <td>14.114948</td>\n",
              "    </tr>\n",
              "    <tr>\n",
              "      <th>4</th>\n",
              "      <td>Adair County</td>\n",
              "      <td>Iowa</td>\n",
              "      <td>7682</td>\n",
              "      <td>7054</td>\n",
              "      <td>-8.902750</td>\n",
              "    </tr>\n",
              "    <tr>\n",
              "      <th>...</th>\n",
              "      <td>...</td>\n",
              "      <td>...</td>\n",
              "      <td>...</td>\n",
              "      <td>...</td>\n",
              "      <td>...</td>\n",
              "    </tr>\n",
              "    <tr>\n",
              "      <th>3137</th>\n",
              "      <td>Yuma County</td>\n",
              "      <td>Arizona</td>\n",
              "      <td>195751</td>\n",
              "      <td>207534</td>\n",
              "      <td>5.677624</td>\n",
              "    </tr>\n",
              "    <tr>\n",
              "      <th>3138</th>\n",
              "      <td>Yuma County</td>\n",
              "      <td>Colorado</td>\n",
              "      <td>10043</td>\n",
              "      <td>10075</td>\n",
              "      <td>0.317618</td>\n",
              "    </tr>\n",
              "    <tr>\n",
              "      <th>3139</th>\n",
              "      <td>Zapata County</td>\n",
              "      <td>Texas</td>\n",
              "      <td>14018</td>\n",
              "      <td>14322</td>\n",
              "      <td>2.122609</td>\n",
              "    </tr>\n",
              "    <tr>\n",
              "      <th>3140</th>\n",
              "      <td>Zavala County</td>\n",
              "      <td>Texas</td>\n",
              "      <td>11677</td>\n",
              "      <td>11948</td>\n",
              "      <td>2.268162</td>\n",
              "    </tr>\n",
              "    <tr>\n",
              "      <th>3141</th>\n",
              "      <td>Ziebach County</td>\n",
              "      <td>South Dakota</td>\n",
              "      <td>2801</td>\n",
              "      <td>2756</td>\n",
              "      <td>-1.632801</td>\n",
              "    </tr>\n",
              "  </tbody>\n",
              "</table>\n",
              "<p>3142 rows × 5 columns</p>\n",
              "</div>"
            ],
            "text/plain": [
              "                County           State  2010Census  2017PopEstimate  \\\n",
              "0     Abbeville County  South Carolina       25417            24722   \n",
              "1        Acadia Parish       Louisiana       61773            62590   \n",
              "2      Accomack County        Virginia       33164            32545   \n",
              "3           Ada County           Idaho      392365           456849   \n",
              "4         Adair County            Iowa        7682             7054   \n",
              "...                ...             ...         ...              ...   \n",
              "3137       Yuma County         Arizona      195751           207534   \n",
              "3138       Yuma County        Colorado       10043            10075   \n",
              "3139     Zapata County           Texas       14018            14322   \n",
              "3140     Zavala County           Texas       11677            11948   \n",
              "3141    Ziebach County    South Dakota        2801             2756   \n",
              "\n",
              "      porcentual  \n",
              "0      -2.811261  \n",
              "1       1.305320  \n",
              "2      -1.901982  \n",
              "3      14.114948  \n",
              "4      -8.902750  \n",
              "...          ...  \n",
              "3137    5.677624  \n",
              "3138    0.317618  \n",
              "3139    2.122609  \n",
              "3140    2.268162  \n",
              "3141   -1.632801  \n",
              "\n",
              "[3142 rows x 5 columns]"
            ]
          },
          "execution_count": 101,
          "metadata": {},
          "output_type": "execute_result"
        }
      ],
      "source": [
        "pop.assign(porcentual = (pop['2017PopEstimate'] - pop['2010Census']) / pop['2017PopEstimate'] * 100)"
      ]
    },
    {
      "cell_type": "markdown",
      "metadata": {
        "id": "xho6z7bz2Tes"
      },
      "source": [
        "<strong>Pregunta Extra: ¿Cuaĺes son los estados que tienen el mayor cambio porcentual entre lo reportado por censo de 2010 y el estimado de población de 2017?</strong><br>Este ejercicio requiere de varias lineas de código, ya que require recalcular el cambio porcentual."
      ]
    },
    {
      "cell_type": "code",
      "execution_count": null,
      "metadata": {
        "colab": {
          "base_uri": "https://localhost:8080/",
          "height": 237
        },
        "collapsed": true,
        "id": "uFseq-AT2Tes",
        "jupyter": {
          "outputs_hidden": true
        },
        "outputId": "030554d6-b702-431c-a3cf-324c0d00b9c1"
      },
      "outputs": [],
      "source": []
    },
    {
      "cell_type": "markdown",
      "metadata": {
        "id": "47b3Ha7s2Tes"
      },
      "source": [
        "# ¡Buen trabajo!"
      ]
    }
  ],
  "metadata": {
    "colab": {
      "collapsed_sections": [],
      "name": "Ejercicios_Pandas.ipynb",
      "provenance": []
    },
    "kernelspec": {
      "display_name": "Python 3 (ipykernel)",
      "language": "python",
      "name": "python3"
    },
    "language_info": {
      "codemirror_mode": {
        "name": "ipython",
        "version": 3
      },
      "file_extension": ".py",
      "mimetype": "text/x-python",
      "name": "python",
      "nbconvert_exporter": "python",
      "pygments_lexer": "ipython3",
      "version": "3.9.13"
    }
  },
  "nbformat": 4,
  "nbformat_minor": 0
}
