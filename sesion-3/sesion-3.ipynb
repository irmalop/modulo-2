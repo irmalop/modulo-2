{
 "cells": [
  {
   "cell_type": "code",
   "execution_count": 1,
   "metadata": {},
   "outputs": [],
   "source": [
    "import numpy as np"
   ]
  },
  {
   "cell_type": "code",
   "execution_count": 2,
   "metadata": {},
   "outputs": [],
   "source": [
    "lista = [1,2,3]"
   ]
  },
  {
   "cell_type": "code",
   "execution_count": 4,
   "metadata": {},
   "outputs": [
    {
     "data": {
      "text/plain": [
       "array([1, 2, 3])"
      ]
     },
     "execution_count": 4,
     "metadata": {},
     "output_type": "execute_result"
    }
   ],
   "source": [
    "np.array(lista)"
   ]
  },
  {
   "cell_type": "code",
   "execution_count": 5,
   "metadata": {},
   "outputs": [
    {
     "name": "stdout",
     "output_type": "stream",
     "text": [
      "[1 2 3]\n"
     ]
    }
   ],
   "source": [
    "print(np.array(lista))"
   ]
  },
  {
   "cell_type": "code",
   "execution_count": 6,
   "metadata": {},
   "outputs": [],
   "source": [
    "arreglo = np.array(lista)"
   ]
  },
  {
   "cell_type": "code",
   "execution_count": 8,
   "metadata": {},
   "outputs": [
    {
     "data": {
      "text/plain": [
       "dtype('int32')"
      ]
     },
     "execution_count": 8,
     "metadata": {},
     "output_type": "execute_result"
    }
   ],
   "source": [
    "arreglo.dtype"
   ]
  },
  {
   "cell_type": "code",
   "execution_count": 9,
   "metadata": {},
   "outputs": [
    {
     "data": {
      "text/plain": [
       "1"
      ]
     },
     "execution_count": 9,
     "metadata": {},
     "output_type": "execute_result"
    }
   ],
   "source": [
    "arreglo[0]"
   ]
  },
  {
   "cell_type": "markdown",
   "metadata": {},
   "source": [
    "## Ejercicio: Sumar dos listas"
   ]
  },
  {
   "cell_type": "code",
   "execution_count": 11,
   "metadata": {},
   "outputs": [
    {
     "data": {
      "text/plain": [
       "[1, 2, 3, 4, 5, 6]"
      ]
     },
     "execution_count": 11,
     "metadata": {},
     "output_type": "execute_result"
    }
   ],
   "source": [
    "[1,2,3]+[4,5,6]"
   ]
  },
  {
   "cell_type": "code",
   "execution_count": 13,
   "metadata": {},
   "outputs": [
    {
     "data": {
      "text/plain": [
       "array([1, 2, 3])"
      ]
     },
     "execution_count": 13,
     "metadata": {},
     "output_type": "execute_result"
    }
   ],
   "source": [
    "arreglo"
   ]
  },
  {
   "cell_type": "code",
   "execution_count": 12,
   "metadata": {},
   "outputs": [
    {
     "data": {
      "text/plain": [
       "array([2, 4, 6])"
      ]
     },
     "execution_count": 12,
     "metadata": {},
     "output_type": "execute_result"
    }
   ],
   "source": [
    "arreglo + arreglo"
   ]
  },
  {
   "cell_type": "code",
   "execution_count": 14,
   "metadata": {},
   "outputs": [],
   "source": [
    "arreglo2 = [10,20,30,40]"
   ]
  },
  {
   "cell_type": "markdown",
   "metadata": {},
   "source": [
    "## Ejercicio: Obtener una lista que contenga los números al cuadrado de 1 al 10"
   ]
  },
  {
   "cell_type": "code",
   "execution_count": 16,
   "metadata": {},
   "outputs": [
    {
     "data": {
      "text/plain": [
       "[1, 4, 9, 16, 25, 36, 49, 64, 81, 100]"
      ]
     },
     "execution_count": 16,
     "metadata": {},
     "output_type": "execute_result"
    }
   ],
   "source": [
    "lista_vacia = []\n",
    "for i in range (1,11):\n",
    "    lista_vacia.append(i**2)\n",
    "lista_vacia"
   ]
  },
  {
   "cell_type": "code",
   "execution_count": 17,
   "metadata": {},
   "outputs": [
    {
     "data": {
      "text/plain": [
       "[1, 4, 9, 16, 25, 36, 49, 64, 81, 100]"
      ]
     },
     "execution_count": 17,
     "metadata": {},
     "output_type": "execute_result"
    }
   ],
   "source": [
    "[x**2 for x in range(1,11)]"
   ]
  },
  {
   "cell_type": "code",
   "execution_count": 18,
   "metadata": {},
   "outputs": [
    {
     "data": {
      "text/plain": [
       "array([  1,   4,   9,  16,  25,  36,  49,  64,  81, 100])"
      ]
     },
     "execution_count": 18,
     "metadata": {},
     "output_type": "execute_result"
    }
   ],
   "source": [
    "np.arange(1,11)**2"
   ]
  },
  {
   "cell_type": "code",
   "execution_count": 20,
   "metadata": {},
   "outputs": [
    {
     "data": {
      "text/plain": [
       "array([160, 170, 180, 190])"
      ]
     },
     "execution_count": 20,
     "metadata": {},
     "output_type": "execute_result"
    }
   ],
   "source": [
    "np.array(arreglo2) +150"
   ]
  },
  {
   "cell_type": "code",
   "execution_count": 21,
   "metadata": {},
   "outputs": [
    {
     "data": {
      "text/plain": [
       "array([1, 2, 3])"
      ]
     },
     "execution_count": 21,
     "metadata": {},
     "output_type": "execute_result"
    }
   ],
   "source": [
    "lista = [1, 2, 3]\n",
    "np.array(lista)"
   ]
  },
  {
   "cell_type": "code",
   "execution_count": 22,
   "metadata": {},
   "outputs": [
    {
     "data": {
      "text/plain": [
       "array([ 1,  2,  3,  4,  5,  6,  7,  8,  9, 10])"
      ]
     },
     "execution_count": 22,
     "metadata": {},
     "output_type": "execute_result"
    }
   ],
   "source": [
    "np.arange(1,11)"
   ]
  },
  {
   "cell_type": "markdown",
   "metadata": {},
   "source": [
    "## Calcular el IMC"
   ]
  },
  {
   "cell_type": "code",
   "execution_count": 23,
   "metadata": {},
   "outputs": [],
   "source": [
    "peso = [80.4, 74.5, 99.5, 75.9, 105.5]"
   ]
  },
  {
   "cell_type": "code",
   "execution_count": 24,
   "metadata": {},
   "outputs": [],
   "source": [
    "estatura = [1.80, 1.65, 1.72, 1.63, 1.80]"
   ]
  },
  {
   "cell_type": "code",
   "execution_count": 25,
   "metadata": {},
   "outputs": [
    {
     "data": {
      "text/plain": [
       "[24.814814814814817,\n",
       " 27.364554637281913,\n",
       " 33.63304488912926,\n",
       " 28.567127103014794,\n",
       " 32.56172839506173]"
      ]
     },
     "execution_count": 25,
     "metadata": {},
     "output_type": "execute_result"
    }
   ],
   "source": [
    "imc = []\n",
    "for i in range(len(peso)):\n",
    "    imc.append(peso[i]/estatura[i]**2)\n",
    "\n",
    "imc"
   ]
  },
  {
   "cell_type": "code",
   "execution_count": 28,
   "metadata": {},
   "outputs": [
    {
     "data": {
      "text/plain": [
       "array([24.81481481, 27.36455464, 33.63304489, 28.5671271 , 32.5617284 ])"
      ]
     },
     "execution_count": 28,
     "metadata": {},
     "output_type": "execute_result"
    }
   ],
   "source": [
    "imc = np.array(peso) / np.array(estatura)**2\n",
    "imc"
   ]
  },
  {
   "cell_type": "markdown",
   "metadata": {},
   "source": [
    "$$imc = \\frac{peso}{estatura^2}"
   ]
  },
  {
   "cell_type": "code",
   "execution_count": 29,
   "metadata": {},
   "outputs": [
    {
     "data": {
      "text/plain": [
       "array(['1', '2', '3', '5'], dtype='<U11')"
      ]
     },
     "execution_count": 29,
     "metadata": {},
     "output_type": "execute_result"
    }
   ],
   "source": [
    "ejemplo = np.array([1, 2, 3, \"5\"])\n",
    "ejemplo"
   ]
  },
  {
   "cell_type": "markdown",
   "metadata": {},
   "source": [
    "Condicionales"
   ]
  },
  {
   "cell_type": "code",
   "execution_count": 30,
   "metadata": {},
   "outputs": [
    {
     "data": {
      "text/plain": [
       "True"
      ]
     },
     "execution_count": 30,
     "metadata": {},
     "output_type": "execute_result"
    }
   ],
   "source": [
    "15 < 20"
   ]
  },
  {
   "cell_type": "code",
   "execution_count": 31,
   "metadata": {},
   "outputs": [
    {
     "data": {
      "text/plain": [
       "array([1, 2, 3])"
      ]
     },
     "execution_count": 31,
     "metadata": {},
     "output_type": "execute_result"
    }
   ],
   "source": [
    "arreglo"
   ]
  },
  {
   "cell_type": "code",
   "execution_count": 32,
   "metadata": {},
   "outputs": [
    {
     "data": {
      "text/plain": [
       "array([24.81481481, 27.36455464, 33.63304489, 28.5671271 , 32.5617284 ])"
      ]
     },
     "execution_count": 32,
     "metadata": {},
     "output_type": "execute_result"
    }
   ],
   "source": [
    "imc"
   ]
  },
  {
   "cell_type": "code",
   "execution_count": 33,
   "metadata": {},
   "outputs": [
    {
     "data": {
      "text/plain": [
       "array([False, False,  True, False,  True])"
      ]
     },
     "execution_count": 33,
     "metadata": {},
     "output_type": "execute_result"
    }
   ],
   "source": [
    "imc > 30"
   ]
  },
  {
   "cell_type": "markdown",
   "metadata": {},
   "source": [
    "Filtro"
   ]
  },
  {
   "cell_type": "code",
   "execution_count": 34,
   "metadata": {},
   "outputs": [
    {
     "data": {
      "text/plain": [
       "array([33.63304489, 32.5617284 ])"
      ]
     },
     "execution_count": 34,
     "metadata": {},
     "output_type": "execute_result"
    }
   ],
   "source": [
    "imc[imc > 30]"
   ]
  },
  {
   "cell_type": "code",
   "execution_count": 35,
   "metadata": {},
   "outputs": [
    {
     "data": {
      "text/plain": [
       "[33.63304488912926, 32.56172839506173]"
      ]
     },
     "execution_count": 35,
     "metadata": {},
     "output_type": "execute_result"
    }
   ],
   "source": [
    "list(imc[imc > 30])"
   ]
  },
  {
   "cell_type": "markdown",
   "metadata": {},
   "source": [
    "## Crear arrays"
   ]
  },
  {
   "cell_type": "code",
   "execution_count": 36,
   "metadata": {},
   "outputs": [
    {
     "data": {
      "text/plain": [
       "array([0., 0., 0., 0., 0., 0., 0., 0., 0., 0.])"
      ]
     },
     "execution_count": 36,
     "metadata": {},
     "output_type": "execute_result"
    }
   ],
   "source": [
    "np.zeros(10)"
   ]
  },
  {
   "cell_type": "code",
   "execution_count": 37,
   "metadata": {},
   "outputs": [
    {
     "data": {
      "text/plain": [
       "array([1., 1., 1., 1., 1.])"
      ]
     },
     "execution_count": 37,
     "metadata": {},
     "output_type": "execute_result"
    }
   ],
   "source": [
    "np.ones(5)"
   ]
  },
  {
   "cell_type": "code",
   "execution_count": 38,
   "metadata": {},
   "outputs": [
    {
     "data": {
      "text/plain": [
       "array([0, 1, 2, 3, 4, 5, 6, 7])"
      ]
     },
     "execution_count": 38,
     "metadata": {},
     "output_type": "execute_result"
    }
   ],
   "source": [
    "np.arange(8)"
   ]
  },
  {
   "cell_type": "code",
   "execution_count": 39,
   "metadata": {},
   "outputs": [
    {
     "data": {
      "text/plain": [
       "array([15, 16, 17, 18, 19, 20, 21, 22, 23, 24, 25, 26, 27, 28, 29, 30])"
      ]
     },
     "execution_count": 39,
     "metadata": {},
     "output_type": "execute_result"
    }
   ],
   "source": [
    "np.arange(15,31)"
   ]
  },
  {
   "cell_type": "code",
   "execution_count": 41,
   "metadata": {},
   "outputs": [
    {
     "data": {
      "text/plain": [
       "array([10, 15, 20, 25, 30])"
      ]
     },
     "execution_count": 41,
     "metadata": {},
     "output_type": "execute_result"
    }
   ],
   "source": [
    "np.arange(10, 31, 5)"
   ]
  },
  {
   "cell_type": "markdown",
   "metadata": {},
   "source": [
    "Linspace"
   ]
  },
  {
   "cell_type": "code",
   "execution_count": 42,
   "metadata": {},
   "outputs": [
    {
     "data": {
      "text/plain": [
       "array([1.  , 1.25, 1.5 , 1.75, 2.  ])"
      ]
     },
     "execution_count": 42,
     "metadata": {},
     "output_type": "execute_result"
    }
   ],
   "source": [
    "np.linspace(1, 2, 5)"
   ]
  },
  {
   "cell_type": "code",
   "execution_count": 43,
   "metadata": {},
   "outputs": [
    {
     "data": {
      "text/plain": [
       "array([  0.        ,  33.33333333,  66.66666667, 100.        ])"
      ]
     },
     "execution_count": 43,
     "metadata": {},
     "output_type": "execute_result"
    }
   ],
   "source": [
    "np.linspace(0,100,4)"
   ]
  },
  {
   "cell_type": "code",
   "execution_count": 44,
   "metadata": {},
   "outputs": [
    {
     "data": {
      "text/plain": [
       "array([  0.,  25.,  50.,  75., 100.])"
      ]
     },
     "execution_count": 44,
     "metadata": {},
     "output_type": "execute_result"
    }
   ],
   "source": [
    "np.linspace(0, 100, 5)"
   ]
  },
  {
   "cell_type": "code",
   "execution_count": 47,
   "metadata": {},
   "outputs": [
    {
     "data": {
      "text/plain": [
       "array([-5., -4., -3., -2., -1.,  0.,  1.,  2.,  3.,  4.,  5.])"
      ]
     },
     "execution_count": 47,
     "metadata": {},
     "output_type": "execute_result"
    }
   ],
   "source": [
    "np.linspace(-5, 5, 11)"
   ]
  },
  {
   "cell_type": "markdown",
   "metadata": {},
   "source": [
    "Random"
   ]
  },
  {
   "cell_type": "code",
   "execution_count": 49,
   "metadata": {},
   "outputs": [
    {
     "data": {
      "text/plain": [
       "0"
      ]
     },
     "execution_count": 49,
     "metadata": {},
     "output_type": "execute_result"
    }
   ],
   "source": [
    "np.random.randint(10)"
   ]
  },
  {
   "cell_type": "code",
   "execution_count": 50,
   "metadata": {},
   "outputs": [
    {
     "data": {
      "text/plain": [
       "92"
      ]
     },
     "execution_count": 50,
     "metadata": {},
     "output_type": "execute_result"
    }
   ],
   "source": [
    "np.random.randint(50,100)"
   ]
  },
  {
   "cell_type": "code",
   "execution_count": 51,
   "metadata": {},
   "outputs": [
    {
     "data": {
      "text/plain": [
       "array([95, 80, 58, 61, 61, 74, 91, 77, 88, 62])"
      ]
     },
     "execution_count": 51,
     "metadata": {},
     "output_type": "execute_result"
    }
   ],
   "source": [
    "np.random.randint(50,100,10)"
   ]
  },
  {
   "cell_type": "code",
   "execution_count": 52,
   "metadata": {},
   "outputs": [
    {
     "data": {
      "text/plain": [
       "array([0.79245666, 0.82545044, 0.34314117, 0.65209431, 0.087284  ,\n",
       "       0.77716773, 0.41285938, 0.92149156, 0.83316434, 0.31932851])"
      ]
     },
     "execution_count": 52,
     "metadata": {},
     "output_type": "execute_result"
    }
   ],
   "source": [
    "np.random.rand(10)"
   ]
  },
  {
   "cell_type": "code",
   "execution_count": 53,
   "metadata": {},
   "outputs": [
    {
     "data": {
      "text/plain": [
       "array([11, 12, 13, 13, 13, 14, 15, 18, 19, 19])"
      ]
     },
     "execution_count": 53,
     "metadata": {},
     "output_type": "execute_result"
    }
   ],
   "source": [
    "numeros_aleatorios = np.random.randint(10,20,10)\n",
    "numeros_aleatorios.sort()\n",
    "numeros_aleatorios"
   ]
  },
  {
   "cell_type": "code",
   "execution_count": null,
   "metadata": {},
   "outputs": [],
   "source": [
    ".mean()"
   ]
  },
  {
   "cell_type": "markdown",
   "metadata": {},
   "source": [
    "## Matrices"
   ]
  },
  {
   "cell_type": "code",
   "execution_count": 71,
   "metadata": {},
   "outputs": [],
   "source": [
    "sublista = [ [1.80, 83.4], [1.76, 80.5], [1.78, 82.5] ]"
   ]
  },
  {
   "cell_type": "code",
   "execution_count": 72,
   "metadata": {},
   "outputs": [
    {
     "data": {
      "text/plain": [
       "array([[ 1.8 , 83.4 ],\n",
       "       [ 1.76, 80.5 ],\n",
       "       [ 1.78, 82.5 ]])"
      ]
     },
     "execution_count": 72,
     "metadata": {},
     "output_type": "execute_result"
    }
   ],
   "source": [
    "matriz = np.array(sublista)\n",
    "matriz"
   ]
  },
  {
   "cell_type": "code",
   "execution_count": 73,
   "metadata": {},
   "outputs": [
    {
     "data": {
      "text/plain": [
       "array([1.8 , 1.76, 1.78])"
      ]
     },
     "execution_count": 73,
     "metadata": {},
     "output_type": "execute_result"
    }
   ],
   "source": [
    "matriz[:, 0]"
   ]
  },
  {
   "cell_type": "code",
   "execution_count": 74,
   "metadata": {},
   "outputs": [
    {
     "data": {
      "text/plain": [
       "(3, 2)"
      ]
     },
     "execution_count": 74,
     "metadata": {},
     "output_type": "execute_result"
    }
   ],
   "source": [
    "matriz.shape"
   ]
  },
  {
   "cell_type": "code",
   "execution_count": 75,
   "metadata": {},
   "outputs": [
    {
     "data": {
      "text/plain": [
       "array([ 1.8, 83.4])"
      ]
     },
     "execution_count": 75,
     "metadata": {},
     "output_type": "execute_result"
    }
   ],
   "source": [
    "matriz[0, :]"
   ]
  },
  {
   "cell_type": "code",
   "execution_count": 77,
   "metadata": {},
   "outputs": [
    {
     "data": {
      "text/plain": [
       "array([[ 1.76, 80.5 ],\n",
       "       [ 1.78, 82.5 ]])"
      ]
     },
     "execution_count": 77,
     "metadata": {},
     "output_type": "execute_result"
    }
   ],
   "source": [
    "matriz[1:, :]"
   ]
  },
  {
   "cell_type": "code",
   "execution_count": 80,
   "metadata": {},
   "outputs": [
    {
     "data": {
      "text/plain": [
       "array([[ 1.8 , 83.4 ],\n",
       "       [ 1.78, 82.5 ]])"
      ]
     },
     "execution_count": 80,
     "metadata": {},
     "output_type": "execute_result"
    }
   ],
   "source": [
    "matriz[[0,2],:]"
   ]
  },
  {
   "cell_type": "code",
   "execution_count": 82,
   "metadata": {},
   "outputs": [
    {
     "data": {
      "text/plain": [
       "array([[ 1.8 , 83.4 ],\n",
       "       [ 1.76, 80.5 ],\n",
       "       [ 1.78, 82.5 ]])"
      ]
     },
     "execution_count": 82,
     "metadata": {},
     "output_type": "execute_result"
    }
   ],
   "source": [
    "matriz"
   ]
  },
  {
   "cell_type": "code",
   "execution_count": 81,
   "metadata": {},
   "outputs": [
    {
     "data": {
      "text/plain": [
       "(array([0, 0, 1, 2], dtype=int64), array([0, 1, 1, 1], dtype=int64))"
      ]
     },
     "execution_count": 81,
     "metadata": {},
     "output_type": "execute_result"
    }
   ],
   "source": [
    "np.where(matriz > 1.79)"
   ]
  },
  {
   "cell_type": "code",
   "execution_count": 83,
   "metadata": {},
   "outputs": [],
   "source": [
    "filas, columnas = np.where(matriz > 1.79)"
   ]
  },
  {
   "cell_type": "code",
   "execution_count": 84,
   "metadata": {},
   "outputs": [
    {
     "data": {
      "text/plain": [
       "array([0, 0, 1, 2], dtype=int64)"
      ]
     },
     "execution_count": 84,
     "metadata": {},
     "output_type": "execute_result"
    }
   ],
   "source": [
    "filas"
   ]
  },
  {
   "cell_type": "code",
   "execution_count": 85,
   "metadata": {},
   "outputs": [
    {
     "data": {
      "text/plain": [
       "array([0, 1, 1, 1], dtype=int64)"
      ]
     },
     "execution_count": 85,
     "metadata": {},
     "output_type": "execute_result"
    }
   ],
   "source": [
    "columnas"
   ]
  },
  {
   "cell_type": "code",
   "execution_count": 88,
   "metadata": {},
   "outputs": [
    {
     "name": "stdout",
     "output_type": "stream",
     "text": [
      "0 0 1.8\n",
      "0 1 83.4\n",
      "1 1 80.5\n",
      "2 1 82.5\n"
     ]
    }
   ],
   "source": [
    "for fila, columna in zip(filas, columnas):\n",
    "    print(f'{fila} {columna} {matriz[fila][columna]}')"
   ]
  },
  {
   "cell_type": "code",
   "execution_count": 89,
   "metadata": {},
   "outputs": [],
   "source": [
    "import pandas as pd"
   ]
  },
  {
   "cell_type": "code",
   "execution_count": 90,
   "metadata": {},
   "outputs": [],
   "source": [
    "data = pd.read_csv('https://assets.datacamp.com/production/repositories/288/datasets/026a5211b906ac118a09b1a0dbf7df48faafb379/fifa.csv')"
   ]
  },
  {
   "cell_type": "code",
   "execution_count": 91,
   "metadata": {},
   "outputs": [
    {
     "data": {
      "text/html": [
       "<div>\n",
       "<style scoped>\n",
       "    .dataframe tbody tr th:only-of-type {\n",
       "        vertical-align: middle;\n",
       "    }\n",
       "\n",
       "    .dataframe tbody tr th {\n",
       "        vertical-align: top;\n",
       "    }\n",
       "\n",
       "    .dataframe thead th {\n",
       "        text-align: right;\n",
       "    }\n",
       "</style>\n",
       "<table border=\"1\" class=\"dataframe\">\n",
       "  <thead>\n",
       "    <tr style=\"text-align: right;\">\n",
       "      <th></th>\n",
       "      <th>id</th>\n",
       "      <th>name</th>\n",
       "      <th>rating</th>\n",
       "      <th>position</th>\n",
       "      <th>height</th>\n",
       "      <th>foot</th>\n",
       "      <th>rare</th>\n",
       "      <th>pace</th>\n",
       "      <th>shooting</th>\n",
       "      <th>passing</th>\n",
       "      <th>dribbling</th>\n",
       "      <th>defending</th>\n",
       "      <th>heading</th>\n",
       "      <th>diving</th>\n",
       "      <th>handling</th>\n",
       "      <th>kicking</th>\n",
       "      <th>reflexes</th>\n",
       "      <th>speed</th>\n",
       "      <th>positioning</th>\n",
       "    </tr>\n",
       "  </thead>\n",
       "  <tbody>\n",
       "    <tr>\n",
       "      <th>0</th>\n",
       "      <td>1001</td>\n",
       "      <td>Gábor Király</td>\n",
       "      <td>69</td>\n",
       "      <td>GK</td>\n",
       "      <td>191</td>\n",
       "      <td>Right</td>\n",
       "      <td>0</td>\n",
       "      <td></td>\n",
       "      <td></td>\n",
       "      <td></td>\n",
       "      <td></td>\n",
       "      <td></td>\n",
       "      <td></td>\n",
       "      <td>70</td>\n",
       "      <td>66</td>\n",
       "      <td>63</td>\n",
       "      <td>74</td>\n",
       "      <td>35</td>\n",
       "      <td>66.0</td>\n",
       "    </tr>\n",
       "    <tr>\n",
       "      <th>1</th>\n",
       "      <td>100143</td>\n",
       "      <td>Frederik Boi</td>\n",
       "      <td>65</td>\n",
       "      <td>M</td>\n",
       "      <td>184</td>\n",
       "      <td>Right</td>\n",
       "      <td>0</td>\n",
       "      <td>61</td>\n",
       "      <td>65</td>\n",
       "      <td>63</td>\n",
       "      <td>59</td>\n",
       "      <td>62</td>\n",
       "      <td>62</td>\n",
       "      <td></td>\n",
       "      <td></td>\n",
       "      <td></td>\n",
       "      <td></td>\n",
       "      <td></td>\n",
       "      <td>NaN</td>\n",
       "    </tr>\n",
       "    <tr>\n",
       "      <th>2</th>\n",
       "      <td>100264</td>\n",
       "      <td>Tomasz Szewczuk</td>\n",
       "      <td>57</td>\n",
       "      <td>A</td>\n",
       "      <td>185</td>\n",
       "      <td>Right</td>\n",
       "      <td>0</td>\n",
       "      <td>65</td>\n",
       "      <td>54</td>\n",
       "      <td>43</td>\n",
       "      <td>53</td>\n",
       "      <td>55</td>\n",
       "      <td>74</td>\n",
       "      <td></td>\n",
       "      <td></td>\n",
       "      <td></td>\n",
       "      <td></td>\n",
       "      <td></td>\n",
       "      <td>NaN</td>\n",
       "    </tr>\n",
       "    <tr>\n",
       "      <th>3</th>\n",
       "      <td>100325</td>\n",
       "      <td>Steeve Joseph-Reinette</td>\n",
       "      <td>63</td>\n",
       "      <td>D</td>\n",
       "      <td>180</td>\n",
       "      <td>Left</td>\n",
       "      <td>0</td>\n",
       "      <td>68</td>\n",
       "      <td>38</td>\n",
       "      <td>51</td>\n",
       "      <td>46</td>\n",
       "      <td>64</td>\n",
       "      <td>71</td>\n",
       "      <td></td>\n",
       "      <td></td>\n",
       "      <td></td>\n",
       "      <td></td>\n",
       "      <td></td>\n",
       "      <td>NaN</td>\n",
       "    </tr>\n",
       "    <tr>\n",
       "      <th>4</th>\n",
       "      <td>100326</td>\n",
       "      <td>Kamel Chafni</td>\n",
       "      <td>72</td>\n",
       "      <td>M</td>\n",
       "      <td>181</td>\n",
       "      <td>Right</td>\n",
       "      <td>0</td>\n",
       "      <td>75</td>\n",
       "      <td>64</td>\n",
       "      <td>67</td>\n",
       "      <td>72</td>\n",
       "      <td>57</td>\n",
       "      <td>66</td>\n",
       "      <td></td>\n",
       "      <td></td>\n",
       "      <td></td>\n",
       "      <td></td>\n",
       "      <td></td>\n",
       "      <td>NaN</td>\n",
       "    </tr>\n",
       "    <tr>\n",
       "      <th>...</th>\n",
       "      <td>...</td>\n",
       "      <td>...</td>\n",
       "      <td>...</td>\n",
       "      <td>...</td>\n",
       "      <td>...</td>\n",
       "      <td>...</td>\n",
       "      <td>...</td>\n",
       "      <td>...</td>\n",
       "      <td>...</td>\n",
       "      <td>...</td>\n",
       "      <td>...</td>\n",
       "      <td>...</td>\n",
       "      <td>...</td>\n",
       "      <td>...</td>\n",
       "      <td>...</td>\n",
       "      <td>...</td>\n",
       "      <td>...</td>\n",
       "      <td>...</td>\n",
       "      <td>...</td>\n",
       "    </tr>\n",
       "    <tr>\n",
       "      <th>8842</th>\n",
       "      <td>9801</td>\n",
       "      <td>Danijel Ljuboja</td>\n",
       "      <td>73</td>\n",
       "      <td>A</td>\n",
       "      <td>189</td>\n",
       "      <td>Left</td>\n",
       "      <td>1</td>\n",
       "      <td>62</td>\n",
       "      <td>73</td>\n",
       "      <td>64</td>\n",
       "      <td>74</td>\n",
       "      <td>56</td>\n",
       "      <td>68</td>\n",
       "      <td></td>\n",
       "      <td></td>\n",
       "      <td></td>\n",
       "      <td></td>\n",
       "      <td></td>\n",
       "      <td>NaN</td>\n",
       "    </tr>\n",
       "    <tr>\n",
       "      <th>8843</th>\n",
       "      <td>9805</td>\n",
       "      <td>Craig Bellamy</td>\n",
       "      <td>79</td>\n",
       "      <td>A</td>\n",
       "      <td>175</td>\n",
       "      <td>Right</td>\n",
       "      <td>0</td>\n",
       "      <td>80</td>\n",
       "      <td>78</td>\n",
       "      <td>67</td>\n",
       "      <td>81</td>\n",
       "      <td>62</td>\n",
       "      <td>71</td>\n",
       "      <td></td>\n",
       "      <td></td>\n",
       "      <td></td>\n",
       "      <td></td>\n",
       "      <td></td>\n",
       "      <td>NaN</td>\n",
       "    </tr>\n",
       "    <tr>\n",
       "      <th>8844</th>\n",
       "      <td>9807</td>\n",
       "      <td>Michel Breuer</td>\n",
       "      <td>68</td>\n",
       "      <td>D</td>\n",
       "      <td>183</td>\n",
       "      <td>Right</td>\n",
       "      <td>0</td>\n",
       "      <td>61</td>\n",
       "      <td>40</td>\n",
       "      <td>56</td>\n",
       "      <td>51</td>\n",
       "      <td>70</td>\n",
       "      <td>74</td>\n",
       "      <td></td>\n",
       "      <td></td>\n",
       "      <td></td>\n",
       "      <td></td>\n",
       "      <td></td>\n",
       "      <td>NaN</td>\n",
       "    </tr>\n",
       "    <tr>\n",
       "      <th>8845</th>\n",
       "      <td>9815</td>\n",
       "      <td>Gill Swerts</td>\n",
       "      <td>65</td>\n",
       "      <td>D</td>\n",
       "      <td>179</td>\n",
       "      <td>Right</td>\n",
       "      <td>0</td>\n",
       "      <td>65</td>\n",
       "      <td>48</td>\n",
       "      <td>63</td>\n",
       "      <td>65</td>\n",
       "      <td>67</td>\n",
       "      <td>69</td>\n",
       "      <td></td>\n",
       "      <td></td>\n",
       "      <td></td>\n",
       "      <td></td>\n",
       "      <td></td>\n",
       "      <td>NaN</td>\n",
       "    </tr>\n",
       "    <tr>\n",
       "      <th>8846</th>\n",
       "      <td>9913</td>\n",
       "      <td>Mehdi Nafti</td>\n",
       "      <td>69</td>\n",
       "      <td>M</td>\n",
       "      <td>179</td>\n",
       "      <td>Right</td>\n",
       "      <td>0</td>\n",
       "      <td>55</td>\n",
       "      <td>56</td>\n",
       "      <td>64</td>\n",
       "      <td>65</td>\n",
       "      <td>69</td>\n",
       "      <td>60</td>\n",
       "      <td></td>\n",
       "      <td></td>\n",
       "      <td></td>\n",
       "      <td></td>\n",
       "      <td></td>\n",
       "      <td>NaN</td>\n",
       "    </tr>\n",
       "  </tbody>\n",
       "</table>\n",
       "<p>8847 rows × 19 columns</p>\n",
       "</div>"
      ],
      "text/plain": [
       "          id                     name   rating  position   height    foot  \\\n",
       "0       1001             Gábor Király       69        GK      191   Right   \n",
       "1     100143             Frederik Boi       65         M      184   Right   \n",
       "2     100264          Tomasz Szewczuk       57         A      185   Right   \n",
       "3     100325   Steeve Joseph-Reinette       63         D      180    Left   \n",
       "4     100326             Kamel Chafni       72         M      181   Right   \n",
       "...      ...                      ...      ...       ...      ...     ...   \n",
       "8842    9801          Danijel Ljuboja       73         A      189    Left   \n",
       "8843    9805            Craig Bellamy       79         A      175   Right   \n",
       "8844    9807            Michel Breuer       68         D      183   Right   \n",
       "8845    9815              Gill Swerts       65         D      179   Right   \n",
       "8846    9913              Mehdi Nafti       69         M      179   Right   \n",
       "\n",
       "       rare  pace  shooting  passing  dribbling  defending  heading  diving  \\\n",
       "0         0                                                              70   \n",
       "1         0    61        65       63         59         62       62           \n",
       "2         0    65        54       43         53         55       74           \n",
       "3         0    68        38       51         46         64       71           \n",
       "4         0    75        64       67         72         57       66           \n",
       "...     ...   ...       ...      ...        ...        ...      ...     ...   \n",
       "8842      1    62        73       64         74         56       68           \n",
       "8843      0    80        78       67         81         62       71           \n",
       "8844      0    61        40       56         51         70       74           \n",
       "8845      0    65        48       63         65         67       69           \n",
       "8846      0    55        56       64         65         69       60           \n",
       "\n",
       "      handling  kicking  reflexes  speed   positioning  \n",
       "0           66       63        74     35          66.0  \n",
       "1                                                  NaN  \n",
       "2                                                  NaN  \n",
       "3                                                  NaN  \n",
       "4                                                  NaN  \n",
       "...        ...      ...       ...    ...           ...  \n",
       "8842                                               NaN  \n",
       "8843                                               NaN  \n",
       "8844                                               NaN  \n",
       "8845                                               NaN  \n",
       "8846                                               NaN  \n",
       "\n",
       "[8847 rows x 19 columns]"
      ]
     },
     "execution_count": 91,
     "metadata": {},
     "output_type": "execute_result"
    }
   ],
   "source": [
    "data"
   ]
  },
  {
   "cell_type": "code",
   "execution_count": 92,
   "metadata": {},
   "outputs": [
    {
     "data": {
      "text/plain": [
       "Index(['id', ' name', ' rating', ' position', ' height', ' foot', ' rare',\n",
       "       ' pace', ' shooting', ' passing', ' dribbling', ' defending',\n",
       "       ' heading', ' diving', ' handling', ' kicking', ' reflexes', ' speed',\n",
       "       ' positioning'],\n",
       "      dtype='object')"
      ]
     },
     "execution_count": 92,
     "metadata": {},
     "output_type": "execute_result"
    }
   ],
   "source": [
    "data.columns"
   ]
  },
  {
   "cell_type": "code",
   "execution_count": 94,
   "metadata": {},
   "outputs": [
    {
     "data": {
      "text/plain": [
       "0                  Gábor Király\n",
       "1                  Frederik Boi\n",
       "2               Tomasz Szewczuk\n",
       "3        Steeve Joseph-Reinette\n",
       "4                  Kamel Chafni\n",
       "                 ...           \n",
       "8842            Danijel Ljuboja\n",
       "8843              Craig Bellamy\n",
       "8844              Michel Breuer\n",
       "8845                Gill Swerts\n",
       "8846                Mehdi Nafti\n",
       "Name:  name, Length: 8847, dtype: object"
      ]
     },
     "execution_count": 94,
     "metadata": {},
     "output_type": "execute_result"
    }
   ],
   "source": [
    "data[' name']"
   ]
  },
  {
   "cell_type": "code",
   "execution_count": 96,
   "metadata": {},
   "outputs": [
    {
     "data": {
      "text/plain": [
       "array([' Gábor Király', ' Frederik Boi', ' Tomasz Szewczuk', ...,\n",
       "       ' Michel Breuer', ' Gill Swerts', ' Mehdi Nafti'], dtype=object)"
      ]
     },
     "execution_count": 96,
     "metadata": {},
     "output_type": "execute_result"
    }
   ],
   "source": [
    "data[' name'].values"
   ]
  },
  {
   "cell_type": "code",
   "execution_count": 97,
   "metadata": {},
   "outputs": [
    {
     "data": {
      "text/plain": [
       "array([' GK', ' M', ' A', ..., ' D', ' D', ' M'], dtype=object)"
      ]
     },
     "execution_count": 97,
     "metadata": {},
     "output_type": "execute_result"
    }
   ],
   "source": [
    "positions = data[' position'].values\n",
    "positions"
   ]
  },
  {
   "cell_type": "code",
   "execution_count": 99,
   "metadata": {},
   "outputs": [
    {
     "data": {
      "text/plain": [
       "array([191, 184, 185, ..., 183, 179, 179], dtype=int64)"
      ]
     },
     "execution_count": 99,
     "metadata": {},
     "output_type": "execute_result"
    }
   ],
   "source": [
    "heights = data[' height'].values\n",
    "heights"
   ]
  },
  {
   "cell_type": "code",
   "execution_count": 104,
   "metadata": {},
   "outputs": [
    {
     "data": {
      "text/plain": [
       "array([ True, False, False, ..., False, False, False])"
      ]
     },
     "execution_count": 104,
     "metadata": {},
     "output_type": "execute_result"
    }
   ],
   "source": [
    "positions == ' GK'"
   ]
  },
  {
   "cell_type": "code",
   "execution_count": 105,
   "metadata": {},
   "outputs": [
    {
     "data": {
      "text/plain": [
       "array([' GK', ' GK', ' GK', ' GK', ' GK', ' GK', ' GK', ' GK', ' GK',\n",
       "       ' GK', ' GK', ' GK', ' GK', ' GK', ' GK', ' GK', ' GK', ' GK',\n",
       "       ' GK', ' GK', ' GK', ' GK', ' GK', ' GK', ' GK', ' GK', ' GK',\n",
       "       ' GK', ' GK', ' GK', ' GK', ' GK', ' GK', ' GK', ' GK', ' GK',\n",
       "       ' GK', ' GK', ' GK', ' GK', ' GK', ' GK', ' GK', ' GK', ' GK',\n",
       "       ' GK', ' GK', ' GK', ' GK', ' GK', ' GK', ' GK', ' GK', ' GK',\n",
       "       ' GK', ' GK', ' GK', ' GK', ' GK', ' GK', ' GK', ' GK', ' GK',\n",
       "       ' GK', ' GK', ' GK', ' GK', ' GK', ' GK', ' GK', ' GK', ' GK',\n",
       "       ' GK', ' GK', ' GK', ' GK', ' GK', ' GK', ' GK', ' GK', ' GK',\n",
       "       ' GK', ' GK', ' GK', ' GK', ' GK', ' GK', ' GK', ' GK', ' GK',\n",
       "       ' GK', ' GK', ' GK', ' GK', ' GK', ' GK', ' GK', ' GK', ' GK',\n",
       "       ' GK', ' GK', ' GK', ' GK', ' GK', ' GK', ' GK', ' GK', ' GK',\n",
       "       ' GK', ' GK', ' GK', ' GK', ' GK', ' GK', ' GK', ' GK', ' GK',\n",
       "       ' GK', ' GK', ' GK', ' GK', ' GK', ' GK', ' GK', ' GK', ' GK',\n",
       "       ' GK', ' GK', ' GK', ' GK', ' GK', ' GK', ' GK', ' GK', ' GK',\n",
       "       ' GK', ' GK', ' GK', ' GK', ' GK', ' GK', ' GK', ' GK', ' GK',\n",
       "       ' GK', ' GK', ' GK', ' GK', ' GK', ' GK', ' GK', ' GK', ' GK',\n",
       "       ' GK', ' GK', ' GK', ' GK', ' GK', ' GK', ' GK', ' GK', ' GK',\n",
       "       ' GK', ' GK', ' GK', ' GK', ' GK', ' GK', ' GK', ' GK', ' GK',\n",
       "       ' GK', ' GK', ' GK', ' GK', ' GK', ' GK', ' GK', ' GK', ' GK',\n",
       "       ' GK', ' GK', ' GK', ' GK', ' GK', ' GK', ' GK', ' GK', ' GK',\n",
       "       ' GK', ' GK', ' GK', ' GK', ' GK', ' GK', ' GK', ' GK', ' GK',\n",
       "       ' GK', ' GK', ' GK', ' GK', ' GK', ' GK', ' GK', ' GK', ' GK',\n",
       "       ' GK', ' GK', ' GK', ' GK', ' GK', ' GK', ' GK', ' GK', ' GK',\n",
       "       ' GK', ' GK', ' GK', ' GK', ' GK', ' GK', ' GK', ' GK', ' GK',\n",
       "       ' GK', ' GK', ' GK', ' GK', ' GK', ' GK', ' GK', ' GK', ' GK',\n",
       "       ' GK', ' GK', ' GK', ' GK', ' GK', ' GK', ' GK', ' GK', ' GK',\n",
       "       ' GK', ' GK', ' GK', ' GK', ' GK', ' GK', ' GK', ' GK', ' GK',\n",
       "       ' GK', ' GK', ' GK', ' GK', ' GK', ' GK', ' GK', ' GK', ' GK',\n",
       "       ' GK', ' GK', ' GK', ' GK', ' GK', ' GK', ' GK', ' GK', ' GK',\n",
       "       ' GK', ' GK', ' GK', ' GK', ' GK', ' GK', ' GK', ' GK', ' GK',\n",
       "       ' GK', ' GK', ' GK', ' GK', ' GK', ' GK', ' GK', ' GK', ' GK',\n",
       "       ' GK', ' GK', ' GK', ' GK', ' GK', ' GK', ' GK', ' GK', ' GK',\n",
       "       ' GK', ' GK', ' GK', ' GK', ' GK', ' GK', ' GK', ' GK', ' GK',\n",
       "       ' GK', ' GK', ' GK', ' GK', ' GK', ' GK', ' GK', ' GK', ' GK',\n",
       "       ' GK', ' GK', ' GK', ' GK', ' GK', ' GK', ' GK', ' GK', ' GK',\n",
       "       ' GK', ' GK', ' GK', ' GK', ' GK', ' GK', ' GK', ' GK', ' GK',\n",
       "       ' GK', ' GK', ' GK', ' GK', ' GK', ' GK', ' GK', ' GK', ' GK',\n",
       "       ' GK', ' GK', ' GK', ' GK', ' GK', ' GK', ' GK', ' GK', ' GK',\n",
       "       ' GK', ' GK', ' GK', ' GK', ' GK', ' GK', ' GK', ' GK', ' GK',\n",
       "       ' GK', ' GK', ' GK', ' GK', ' GK', ' GK', ' GK', ' GK', ' GK',\n",
       "       ' GK', ' GK', ' GK', ' GK', ' GK', ' GK', ' GK', ' GK', ' GK',\n",
       "       ' GK', ' GK', ' GK', ' GK', ' GK', ' GK', ' GK', ' GK', ' GK',\n",
       "       ' GK', ' GK', ' GK', ' GK', ' GK', ' GK', ' GK', ' GK', ' GK',\n",
       "       ' GK', ' GK', ' GK', ' GK', ' GK', ' GK', ' GK', ' GK', ' GK',\n",
       "       ' GK', ' GK', ' GK', ' GK', ' GK', ' GK', ' GK', ' GK', ' GK',\n",
       "       ' GK', ' GK', ' GK', ' GK', ' GK', ' GK', ' GK', ' GK', ' GK',\n",
       "       ' GK', ' GK', ' GK', ' GK', ' GK', ' GK', ' GK', ' GK', ' GK',\n",
       "       ' GK', ' GK', ' GK', ' GK', ' GK', ' GK', ' GK', ' GK', ' GK',\n",
       "       ' GK', ' GK', ' GK', ' GK', ' GK', ' GK', ' GK', ' GK', ' GK',\n",
       "       ' GK', ' GK', ' GK', ' GK', ' GK', ' GK', ' GK', ' GK', ' GK',\n",
       "       ' GK', ' GK', ' GK', ' GK', ' GK', ' GK', ' GK', ' GK', ' GK',\n",
       "       ' GK', ' GK', ' GK', ' GK', ' GK', ' GK', ' GK', ' GK', ' GK',\n",
       "       ' GK', ' GK', ' GK', ' GK', ' GK', ' GK', ' GK', ' GK', ' GK',\n",
       "       ' GK', ' GK', ' GK', ' GK', ' GK', ' GK', ' GK', ' GK', ' GK',\n",
       "       ' GK', ' GK', ' GK', ' GK', ' GK', ' GK', ' GK', ' GK', ' GK',\n",
       "       ' GK', ' GK', ' GK', ' GK', ' GK', ' GK', ' GK', ' GK', ' GK',\n",
       "       ' GK', ' GK', ' GK', ' GK', ' GK', ' GK', ' GK', ' GK', ' GK',\n",
       "       ' GK', ' GK', ' GK', ' GK', ' GK', ' GK', ' GK', ' GK', ' GK',\n",
       "       ' GK', ' GK', ' GK', ' GK', ' GK', ' GK', ' GK', ' GK', ' GK',\n",
       "       ' GK', ' GK', ' GK', ' GK', ' GK', ' GK', ' GK', ' GK', ' GK',\n",
       "       ' GK', ' GK', ' GK', ' GK', ' GK', ' GK', ' GK', ' GK', ' GK',\n",
       "       ' GK', ' GK', ' GK', ' GK', ' GK', ' GK', ' GK', ' GK', ' GK',\n",
       "       ' GK', ' GK', ' GK', ' GK', ' GK', ' GK', ' GK', ' GK', ' GK',\n",
       "       ' GK', ' GK', ' GK', ' GK', ' GK', ' GK', ' GK', ' GK', ' GK',\n",
       "       ' GK', ' GK', ' GK', ' GK', ' GK', ' GK', ' GK', ' GK', ' GK',\n",
       "       ' GK', ' GK', ' GK', ' GK', ' GK', ' GK', ' GK', ' GK', ' GK',\n",
       "       ' GK', ' GK', ' GK', ' GK', ' GK', ' GK', ' GK', ' GK', ' GK',\n",
       "       ' GK', ' GK', ' GK', ' GK', ' GK', ' GK', ' GK', ' GK', ' GK',\n",
       "       ' GK', ' GK', ' GK', ' GK', ' GK', ' GK', ' GK', ' GK', ' GK',\n",
       "       ' GK', ' GK', ' GK', ' GK', ' GK', ' GK', ' GK', ' GK', ' GK',\n",
       "       ' GK', ' GK', ' GK', ' GK', ' GK', ' GK', ' GK', ' GK', ' GK',\n",
       "       ' GK', ' GK', ' GK', ' GK', ' GK', ' GK', ' GK', ' GK', ' GK',\n",
       "       ' GK', ' GK', ' GK', ' GK', ' GK', ' GK', ' GK', ' GK', ' GK',\n",
       "       ' GK', ' GK', ' GK', ' GK', ' GK', ' GK', ' GK', ' GK', ' GK',\n",
       "       ' GK', ' GK', ' GK', ' GK', ' GK', ' GK', ' GK', ' GK', ' GK',\n",
       "       ' GK', ' GK', ' GK', ' GK', ' GK', ' GK', ' GK', ' GK', ' GK',\n",
       "       ' GK', ' GK', ' GK', ' GK', ' GK', ' GK', ' GK', ' GK', ' GK',\n",
       "       ' GK', ' GK', ' GK', ' GK', ' GK', ' GK', ' GK', ' GK', ' GK',\n",
       "       ' GK', ' GK', ' GK', ' GK', ' GK', ' GK', ' GK', ' GK', ' GK',\n",
       "       ' GK', ' GK', ' GK', ' GK', ' GK', ' GK', ' GK', ' GK', ' GK',\n",
       "       ' GK', ' GK', ' GK', ' GK', ' GK', ' GK', ' GK', ' GK', ' GK',\n",
       "       ' GK', ' GK', ' GK', ' GK', ' GK', ' GK', ' GK', ' GK', ' GK',\n",
       "       ' GK', ' GK', ' GK', ' GK', ' GK', ' GK', ' GK', ' GK', ' GK',\n",
       "       ' GK', ' GK', ' GK', ' GK', ' GK', ' GK', ' GK', ' GK', ' GK',\n",
       "       ' GK', ' GK', ' GK', ' GK', ' GK', ' GK', ' GK', ' GK', ' GK',\n",
       "       ' GK', ' GK', ' GK', ' GK', ' GK', ' GK', ' GK', ' GK', ' GK',\n",
       "       ' GK', ' GK', ' GK', ' GK', ' GK', ' GK', ' GK', ' GK', ' GK',\n",
       "       ' GK', ' GK', ' GK', ' GK', ' GK', ' GK', ' GK', ' GK', ' GK',\n",
       "       ' GK', ' GK', ' GK', ' GK', ' GK', ' GK', ' GK', ' GK', ' GK',\n",
       "       ' GK', ' GK', ' GK', ' GK', ' GK', ' GK', ' GK', ' GK', ' GK',\n",
       "       ' GK', ' GK', ' GK', ' GK', ' GK', ' GK', ' GK', ' GK', ' GK',\n",
       "       ' GK', ' GK', ' GK', ' GK', ' GK', ' GK', ' GK', ' GK', ' GK',\n",
       "       ' GK', ' GK', ' GK', ' GK', ' GK', ' GK', ' GK', ' GK', ' GK',\n",
       "       ' GK', ' GK', ' GK', ' GK', ' GK', ' GK', ' GK', ' GK', ' GK',\n",
       "       ' GK', ' GK', ' GK', ' GK', ' GK', ' GK', ' GK', ' GK', ' GK',\n",
       "       ' GK', ' GK', ' GK', ' GK', ' GK', ' GK', ' GK', ' GK', ' GK',\n",
       "       ' GK', ' GK', ' GK', ' GK', ' GK', ' GK', ' GK', ' GK', ' GK',\n",
       "       ' GK', ' GK', ' GK', ' GK', ' GK', ' GK', ' GK', ' GK', ' GK',\n",
       "       ' GK', ' GK', ' GK', ' GK', ' GK', ' GK', ' GK', ' GK', ' GK',\n",
       "       ' GK', ' GK', ' GK', ' GK', ' GK', ' GK', ' GK', ' GK', ' GK',\n",
       "       ' GK', ' GK', ' GK', ' GK', ' GK', ' GK', ' GK', ' GK', ' GK',\n",
       "       ' GK', ' GK', ' GK', ' GK', ' GK', ' GK', ' GK', ' GK', ' GK',\n",
       "       ' GK', ' GK', ' GK'], dtype=object)"
      ]
     },
     "execution_count": 105,
     "metadata": {},
     "output_type": "execute_result"
    }
   ],
   "source": [
    "positions[positions == ' GK']"
   ]
  },
  {
   "cell_type": "code",
   "execution_count": 109,
   "metadata": {},
   "outputs": [
    {
     "data": {
      "text/plain": [
       "array([191, 193, 190, 185, 188, 187, 189, 196, 190, 189, 188, 189, 188,\n",
       "       188, 190, 193, 181, 191, 193, 190, 183, 183, 193, 193, 196, 184,\n",
       "       190, 186, 195, 191, 187, 185, 186, 185, 186, 190, 185, 185, 187,\n",
       "       188, 188, 186, 187, 193, 183, 185, 190, 186, 182, 191, 194, 191,\n",
       "       194, 188, 185, 189, 187, 188, 184, 176, 187, 186, 191, 188, 191,\n",
       "       192, 190, 188, 189, 184, 180, 191, 197, 189, 185, 191, 190, 190,\n",
       "       185, 186, 186, 189, 193, 182, 189, 188, 190, 191, 183, 189, 189,\n",
       "       190, 188, 184, 194, 188, 194, 193, 186, 186, 188, 187, 191, 192,\n",
       "       196, 187, 187, 187, 192, 184, 189, 184, 185, 187, 202, 190, 185,\n",
       "       182, 188, 188, 195, 187, 183, 197, 188, 190, 193, 191, 187, 184,\n",
       "       183, 185, 193, 180, 191, 185, 188, 188, 186, 188, 188, 184, 186,\n",
       "       189, 193, 194, 183, 178, 184, 190, 183, 184, 188, 194, 190, 183,\n",
       "       194, 188, 180, 173, 187, 183, 184, 193, 188, 183, 190, 191, 199,\n",
       "       186, 198, 188, 189, 189, 185, 193, 191, 188, 185, 185, 188, 190,\n",
       "       180, 188, 184, 187, 183, 181, 179, 185, 182, 188, 188, 184, 196,\n",
       "       192, 187, 187, 193, 190, 189, 194, 188, 185, 193, 185, 193, 187,\n",
       "       196, 194, 198, 196, 188, 188, 195, 186, 190, 191, 188, 187, 188,\n",
       "       192, 199, 185, 190, 185, 188, 196, 188, 196, 185, 185, 188, 188,\n",
       "       179, 187, 190, 185, 198, 193, 193, 188, 188, 180, 183, 185, 185,\n",
       "       186, 186, 180, 184, 188, 185, 186, 183, 188, 193, 185, 181, 186,\n",
       "       189, 193, 188, 188, 193, 198, 182, 185, 181, 186, 188, 198, 190,\n",
       "       183, 184, 188, 191, 177, 193, 189, 187, 187, 193, 179, 184, 186,\n",
       "       190, 188, 191, 189, 197, 190, 180, 196, 193, 186, 189, 187, 185,\n",
       "       187, 178, 184, 187, 178, 196, 189, 188, 182, 183, 188, 191, 197,\n",
       "       187, 191, 193, 191, 185, 184, 193, 184, 196, 194, 193, 189, 186,\n",
       "       187, 193, 188, 185, 188, 183, 188, 189, 197, 183, 193, 190, 180,\n",
       "       185, 181, 179, 194, 187, 185, 186, 185, 191, 193, 191, 187, 193,\n",
       "       185, 191, 190, 188, 192, 180, 186, 183, 188, 191, 186, 186, 186,\n",
       "       186, 192, 190, 180, 183, 185, 184, 188, 184, 193, 190, 180, 187,\n",
       "       187, 185, 180, 188, 188, 195, 182, 191, 182, 195, 186, 192, 191,\n",
       "       188, 181, 182, 198, 185, 189, 198, 185, 192, 188, 185, 193, 184,\n",
       "       193, 185, 196, 188, 188, 185, 185, 185, 188, 196, 190, 189, 180,\n",
       "       191, 183, 201, 190, 178, 182, 190, 196, 188, 190, 192, 185, 192,\n",
       "       193, 193, 191, 180, 188, 183, 188, 183, 194, 185, 187, 184, 184,\n",
       "       196, 188, 186, 182, 195, 185, 183, 183, 189, 185, 183, 183, 193,\n",
       "       188, 187, 185, 185, 179, 183, 187, 183, 185, 189, 189, 180, 184,\n",
       "       185, 199, 192, 184, 183, 182, 187, 191, 190, 192, 190, 190, 186,\n",
       "       186, 186, 190, 181, 202, 195, 185, 191, 183, 184, 184, 189, 194,\n",
       "       188, 185, 194, 186, 188, 193, 193, 194, 185, 193, 185, 191, 197,\n",
       "       186, 185, 185, 185, 187, 183, 188, 185, 188, 190, 187, 191, 191,\n",
       "       192, 184, 194, 181, 189, 186, 190, 187, 187, 194, 184, 184, 193,\n",
       "       186, 189, 193, 188, 189, 193, 192, 190, 190, 188, 190, 191, 185,\n",
       "       184, 197, 188, 183, 191, 184, 194, 193, 187, 185, 189, 197, 194,\n",
       "       190, 195, 191, 187, 190, 185, 208, 192, 192, 185, 188, 195, 188,\n",
       "       194, 184, 185, 191, 183, 193, 191, 185, 185, 192, 186, 196, 181,\n",
       "       193, 188, 190, 188, 189, 186, 185, 188, 193, 195, 196, 192, 180,\n",
       "       187, 199, 197, 189, 183, 181, 191, 188, 185, 202, 186, 189, 190,\n",
       "       188, 188, 193, 187, 187, 193, 192, 186, 186, 196, 195, 189, 190,\n",
       "       186, 193, 188, 183, 183, 188, 192, 188, 192, 191, 191, 183, 193,\n",
       "       193, 192, 189, 190, 198, 193, 182, 185, 185, 190, 192, 185, 187,\n",
       "       190, 187, 184, 195, 194, 197, 187, 186, 189, 173, 190, 188, 203,\n",
       "       185, 194, 186, 175, 196, 180, 184, 192, 191, 185, 191, 196, 188,\n",
       "       187, 196, 191, 188, 182, 193, 185, 183, 192, 197, 181, 180, 191,\n",
       "       187, 185, 187, 187, 190, 191, 194, 190, 191, 191, 191, 181, 188,\n",
       "       196, 183, 193, 182, 186, 190, 189, 185, 180, 188, 193, 180, 185,\n",
       "       197, 178, 183, 191, 191, 187, 184, 193, 191, 188, 180, 177, 187,\n",
       "       178, 187, 180, 189, 189, 186, 198, 182, 187, 187, 185, 189, 195,\n",
       "       182, 198, 182, 190, 192, 180, 186, 184, 185, 190, 197, 190, 185,\n",
       "       193, 187, 197, 185, 189, 193, 185, 178, 188, 185, 188, 185, 185,\n",
       "       190, 179, 187, 193, 188, 181, 181, 183, 196, 187, 188, 185, 191,\n",
       "       180, 191, 185, 196, 188, 194, 191, 196, 193, 194, 185, 186, 185,\n",
       "       189, 194, 193, 180, 192, 187, 197, 189, 185, 185, 183, 193, 193,\n",
       "       183, 189, 186, 189, 187, 199, 184, 180, 199, 184, 184, 187, 197,\n",
       "       188, 187, 188, 188, 191, 188, 195, 185, 191, 186, 190, 187, 185,\n",
       "       188, 188, 196, 190, 185, 189, 195, 184, 198, 185, 185, 183, 185,\n",
       "       186, 193, 190, 191, 187, 174, 184, 190, 188, 190, 193, 186, 196,\n",
       "       183, 186, 187, 184, 186, 184, 188, 177, 196, 193, 193, 191, 188,\n",
       "       188, 188, 196, 188, 196, 194, 191, 191, 194, 180, 193, 185, 187,\n",
       "       193, 185, 182, 189, 188, 193, 193, 190, 185, 193, 183, 180, 191,\n",
       "       181, 190, 183, 193, 191, 188, 193, 185, 183, 185, 188, 186, 182,\n",
       "       185, 188, 188, 191, 188, 185, 194, 189, 191, 191, 192, 187, 188,\n",
       "       192, 191, 191, 184, 182, 194, 196], dtype=int64)"
      ]
     },
     "execution_count": 109,
     "metadata": {},
     "output_type": "execute_result"
    }
   ],
   "source": [
    "hgk = heights[positions == ' GK']\n",
    "hgk"
   ]
  },
  {
   "cell_type": "code",
   "execution_count": 108,
   "metadata": {},
   "outputs": [
    {
     "data": {
      "text/plain": [
       "188.23333333333332"
      ]
     },
     "execution_count": 108,
     "metadata": {},
     "output_type": "execute_result"
    }
   ],
   "source": [
    "hgk.mean()"
   ]
  },
  {
   "cell_type": "code",
   "execution_count": null,
   "metadata": {},
   "outputs": [],
   "source": []
  }
 ],
 "metadata": {
  "interpreter": {
   "hash": "34f38cbcfebbbcbd66cd1ace6563756e69a46346297a0b7bdfb30cee99aca9cf"
  },
  "kernelspec": {
   "display_name": "Python 3.9.13 ('venv': venv)",
   "language": "python",
   "name": "python3"
  },
  "language_info": {
   "codemirror_mode": {
    "name": "ipython",
    "version": 3
   },
   "file_extension": ".py",
   "mimetype": "text/x-python",
   "name": "python",
   "nbconvert_exporter": "python",
   "pygments_lexer": "ipython3",
   "version": "3.9.13"
  },
  "orig_nbformat": 4
 },
 "nbformat": 4,
 "nbformat_minor": 2
}
