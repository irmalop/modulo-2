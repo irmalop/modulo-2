{
  "nbformat": 4,
  "nbformat_minor": 0,
  "metadata": {
    "colab": {
      "name": "Challenge_Un_nuevo_enfoque_para_la_cinematografia.ipynb",
      "provenance": [],
      "collapsed_sections": [
        "2AfN2tS7uH3l",
        "GYHGLOk5uMxC",
        "1HqkAJ8luU7r",
        "bsjbuTjRups0"
      ]
    },
    "kernelspec": {
      "name": "python3",
      "display_name": "Python 3"
    },
    "language_info": {
      "name": "python"
    }
  },
  "cells": [
    {
      "cell_type": "markdown",
      "source": [
        "# Un nuevo enfoque para la cinematografía\n"
      ],
      "metadata": {
        "id": "kTWwNN5ebZhM"
      }
    },
    {
      "cell_type": "markdown",
      "source": [
        "Un análisis exploratorio de datos de las estadísticas cinematográficas 🎥 revela que una nueva tendencia 📈 se ha apoderado de la industria y ya está generando enormes 💵 ganancias 💵 para algunos de sus jugadores clave. 🥇\n"
      ],
      "metadata": {
        "id": "SSzRRcVQtWPw"
      }
    },
    {
      "cell_type": "markdown",
      "source": [
        "Actualmente, con la mayoría de las personas que poseen al menos una suscripción a un servicio de streaming, nos encontramos en la nueva era de \"guerras de streaming\". Tal como está, Netflix (valor neto: $40 mil millones), el principal proveedor de streaming, conserva su puesto en la parte superior con 207,64 millones de suscriptores.\n"
      ],
      "metadata": {
        "id": "ervCz_k1vGhx"
      }
    },
    {
      "cell_type": "markdown",
      "source": [
        "Así que hoy en obtendremos provecho del registro de actividad de nuestros usuarios y de la data del cátalogo de películas realizando un dashboard que apoye en el entendimiento de los datos y permita obtener insights 👀\n"
      ],
      "metadata": {
        "id": "S2P4FxtNbrhG"
      }
    },
    {
      "cell_type": "markdown",
      "source": [
        "## Instrucciones\n",
        "El equipo de Data Engineering nos ha apoyado con la estructuración y limpieza de los conjuntos de datos a utilizar, dejandolós listos para descargar y consumir en la carpeta de [data](https://drive.google.com/drive/folders/1Yxy223skDSb39mSTRBxsBxebpt8PIacw?usp=sharing)\n",
        "\n",
        "Realiza la conexión a los conjuntos de datos para desarrollar las visualizaciones pertinentes para exponer al equipo interno información relevante para la toma de decisiones. 📊\n"
      ],
      "metadata": {
        "id": "XOfis3hhlji5"
      }
    },
    {
      "cell_type": "markdown",
      "source": [
        "### Paso 1: Crea la conexión\n"
      ],
      "metadata": {
        "id": "2AfN2tS7uH3l"
      }
    },
    {
      "cell_type": "markdown",
      "source": [
        "Recuerda que puedes buscar los archivos con extensión .dat al seleccionar la opción de \"Importar datos de Excel\" y modificar la opcion de ver \"Todos los archivos\"\n"
      ],
      "metadata": {
        "id": "RKuI3TxIEXOF"
      }
    },
    {
      "cell_type": "code",
      "execution_count": null,
      "metadata": {
        "id": "eQaEH5QdjjMQ"
      },
      "outputs": [],
      "source": [
        ""
      ]
    },
    {
      "cell_type": "markdown",
      "source": [
        "### Paso 2: Transforma los datos en caso de ser necesario\n"
      ],
      "metadata": {
        "id": "GYHGLOk5uMxC"
      }
    },
    {
      "cell_type": "markdown",
      "source": [
        "Por ejemplo, para agregar los nombres de los atributos (nombres de las columnas/variables).\n",
        "\n",
        "Del conjunto de:\n",
        "\n",
        "**users**: UserID, Gender, Age, Occupation y Zip-code\n",
        "\n",
        "**movies**: MovieID, Title y Genres\n",
        "\n",
        "**ratings**: UserID, MovieID, Rating y Timestamp\n",
        "\n"
      ],
      "metadata": {
        "id": "Si-Gz6svELbB"
      }
    },
    {
      "cell_type": "code",
      "source": [
        ""
      ],
      "metadata": {
        "id": "zdc2LYPguTjD"
      },
      "execution_count": null,
      "outputs": []
    },
    {
      "cell_type": "markdown",
      "source": [
        "### Paso 3: Plantea las preguntas a responder"
      ],
      "metadata": {
        "id": "1HqkAJ8luU7r"
      }
    },
    {
      "cell_type": "markdown",
      "source": [
        "Por ejemplo, cuál es la catidad de usuarios que tiene la plataforma, peliculas con peor ranking...\n"
      ],
      "metadata": {
        "id": "GsNMITUTNFOE"
      }
    },
    {
      "cell_type": "code",
      "source": [
        ""
      ],
      "metadata": {
        "id": "x0Tn9SpPuovs"
      },
      "execution_count": null,
      "outputs": []
    },
    {
      "cell_type": "markdown",
      "source": [
        "### Paso 4: Desarrolla los gráficos que aporten conocimiento de los datos\n"
      ],
      "metadata": {
        "id": "bsjbuTjRups0"
      }
    },
    {
      "cell_type": "code",
      "source": [
        ""
      ],
      "metadata": {
        "id": "K7iRiei1-utA"
      },
      "execution_count": null,
      "outputs": []
    }
  ]
}